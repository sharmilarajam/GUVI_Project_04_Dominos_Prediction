{
 "cells": [
  {
   "cell_type": "markdown",
   "id": "306e11a2",
   "metadata": {},
   "source": []
  },
  {
   "cell_type": "code",
   "execution_count": null,
   "id": "ea7f4810",
   "metadata": {},
   "outputs": [
    {
     "name": "stdout",
     "output_type": "stream",
     "text": [
      "       pizza_id  order_id  pizza_name_id  quantity           order_date  \\\n",
      "0             1         1     hawaiian_m         1  2015-01-01 00:00:00   \n",
      "1             2         2  classic_dlx_m         1  2015-01-01 00:00:00   \n",
      "2             3         2  five_cheese_l         1  2015-01-01 00:00:00   \n",
      "3             4         2    ital_supr_l         1  2015-01-01 00:00:00   \n",
      "4             5         2     mexicana_m         1  2015-01-01 00:00:00   \n",
      "...         ...       ...            ...       ...                  ...   \n",
      "48615     48616     21348  ckn_alfredo_m         1           31-12-2015   \n",
      "48616     48617     21348  four_cheese_l         1           31-12-2015   \n",
      "48617     48618     21348   napolitana_s         1           31-12-2015   \n",
      "48618     48619     21349     mexicana_l         1           31-12-2015   \n",
      "48619     48620     21350      bbq_ckn_s         1           31-12-2015   \n",
      "\n",
      "      order_time  unit_price  total_price pizza_size pizza_category  \\\n",
      "0       11:38:36       13.25        13.25          M        Classic   \n",
      "1       11:57:40       16.00        16.00          M        Classic   \n",
      "2       11:57:40       18.50        18.50          L         Veggie   \n",
      "3       11:57:40       20.75        20.75          L        Supreme   \n",
      "4       11:57:40       16.00        16.00          M         Veggie   \n",
      "...          ...         ...          ...        ...            ...   \n",
      "48615   21:23:10       16.75        16.75          M        Chicken   \n",
      "48616   21:23:10       17.95        17.95          L         Veggie   \n",
      "48617   21:23:10       12.00        12.00          S        Classic   \n",
      "48618   22:09:54       20.25        20.25          L         Veggie   \n",
      "48619   23:02:05       12.75        12.75          S        Chicken   \n",
      "\n",
      "                                       pizza_ingredients  \\\n",
      "0               Sliced Ham, Pineapple, Mozzarella Cheese   \n",
      "1      Pepperoni, Mushrooms, Red Onions, Red Peppers,...   \n",
      "2      Mozzarella Cheese, Provolone Cheese, Smoked Go...   \n",
      "3      Calabrese Salami, Capocollo, Tomatoes, Red Oni...   \n",
      "4      Tomatoes, Red Peppers, Jalapeno Peppers, Red O...   \n",
      "...                                                  ...   \n",
      "48615  Chicken, Red Onions, Red Peppers, Mushrooms, A...   \n",
      "48616  Ricotta Cheese, Gorgonzola Piccante Cheese, Mo...   \n",
      "48617  Tomatoes, Anchovies, Green Olives, Red Onions,...   \n",
      "48618  Tomatoes, Red Peppers, Jalapeno Peppers, Red O...   \n",
      "48619  Barbecued Chicken, Red Peppers, Green Peppers,...   \n",
      "\n",
      "                       pizza_name  \n",
      "0              The Hawaiian Pizza  \n",
      "1        The Classic Deluxe Pizza  \n",
      "2           The Five Cheese Pizza  \n",
      "3       The Italian Supreme Pizza  \n",
      "4              The Mexicana Pizza  \n",
      "...                           ...  \n",
      "48615   The Chicken Alfredo Pizza  \n",
      "48616       The Four Cheese Pizza  \n",
      "48617        The Napolitana Pizza  \n",
      "48618          The Mexicana Pizza  \n",
      "48619  The Barbecue Chicken Pizza  \n",
      "\n",
      "[48620 rows x 12 columns]\n"
     ]
    }
   ],
   "source": [
    "import pandas as pd\n",
    "df=pd.read_excel('Pizza_Sale.xlsx')\n",
    "print(df)"
   ]
  },
  {
   "cell_type": "code",
   "execution_count": 51,
   "id": "a6979b42",
   "metadata": {},
   "outputs": [
    {
     "data": {
      "text/plain": [
       "pizza_id              0\n",
       "order_id              0\n",
       "pizza_name_id        16\n",
       "quantity              0\n",
       "order_date            0\n",
       "order_time            0\n",
       "unit_price            0\n",
       "total_price           7\n",
       "pizza_size            0\n",
       "pizza_category       23\n",
       "pizza_ingredients    13\n",
       "pizza_name            7\n",
       "dtype: int64"
      ]
     },
     "execution_count": 51,
     "metadata": {},
     "output_type": "execute_result"
    }
   ],
   "source": [
    "df.isnull().sum()\n"
   ]
  },
  {
   "cell_type": "code",
   "execution_count": 52,
   "id": "ac03dc3b",
   "metadata": {},
   "outputs": [
    {
     "name": "stdout",
     "output_type": "stream",
     "text": [
      "     pizza_id  order_id  pizza_name_id  quantity           order_date  \\\n",
      "36         37        15            NaN         1  2015-01-01 00:00:00   \n",
      "37         38        15            NaN         1  2015-01-01 00:00:00   \n",
      "38         39        15            NaN         1  2015-01-01 00:00:00   \n",
      "39         40        16            NaN         1  2015-01-01 00:00:00   \n",
      "40         41        16            NaN         1  2015-01-01 00:00:00   \n",
      "..        ...       ...            ...       ...                  ...   \n",
      "783       784       342     sicilian_l         1  2015-06-01 00:00:00   \n",
      "784       785       342   southw_ckn_l         1  2015-06-01 00:00:00   \n",
      "785       786       343  five_cheese_l         1  2015-06-01 00:00:00   \n",
      "786       787       343  four_cheese_m         1  2015-06-01 00:00:00   \n",
      "787       788       344  ital_cpcllo_m         1  2015-06-01 00:00:00   \n",
      "\n",
      "    order_time  unit_price  total_price pizza_size pizza_category  \\\n",
      "36    13:33:00       18.50        18.50          L         Veggie   \n",
      "37    13:33:00       20.75        20.75          L        Supreme   \n",
      "38    13:33:00       12.00        12.00          S        Classic   \n",
      "39    13:34:07       17.95        17.95          L         Veggie   \n",
      "40    13:34:07       12.00        12.00          S        Classic   \n",
      "..         ...         ...          ...        ...            ...   \n",
      "783   15:44:12       20.25          NaN          L        Supreme   \n",
      "784   15:44:12       20.75          NaN          L        Chicken   \n",
      "785   15:45:37       18.50          NaN          L         Veggie   \n",
      "786   15:45:37       14.75          NaN          M         Veggie   \n",
      "787   16:01:11       16.00          NaN          M        Classic   \n",
      "\n",
      "                                     pizza_ingredients  \\\n",
      "36   Mozzarella Cheese, Provolone Cheese, Smoked Go...   \n",
      "37   Soppressata Salami, Fontina Cheese, Mozzarella...   \n",
      "38   Kalamata Olives, Feta Cheese, Tomatoes, Garlic...   \n",
      "39   Ricotta Cheese, Gorgonzola Piccante Cheese, Mo...   \n",
      "40   Tomatoes, Anchovies, Green Olives, Red Onions,...   \n",
      "..                                                 ...   \n",
      "783  Coarse Sicilian Salami, Tomatoes, Green Olives...   \n",
      "784  Chicken, Tomatoes, Red Peppers, Red Onions, Ja...   \n",
      "785  Mozzarella Cheese, Provolone Cheese, Smoked Go...   \n",
      "786  Ricotta Cheese, Gorgonzola Piccante Cheese, Mo...   \n",
      "787  Capocollo, Red Peppers, Tomatoes, Goat Cheese,...   \n",
      "\n",
      "                      pizza_name  \n",
      "36         The Five Cheese Pizza  \n",
      "37         The Soppressata Pizza  \n",
      "38               The Greek Pizza  \n",
      "39         The Four Cheese Pizza  \n",
      "40          The Napolitana Pizza  \n",
      "..                           ...  \n",
      "783           The Sicilian Pizza  \n",
      "784  The Southwest Chicken Pizza  \n",
      "785        The Five Cheese Pizza  \n",
      "786        The Four Cheese Pizza  \n",
      "787  The Italian Capocollo Pizza  \n",
      "\n",
      "[66 rows x 12 columns]\n"
     ]
    }
   ],
   "source": [
    "null_rows = df[df.isnull().any(axis=1)]\n",
    "print(null_rows)\n"
   ]
  },
  {
   "cell_type": "code",
   "execution_count": 53,
   "id": "b4e92419",
   "metadata": {},
   "outputs": [
    {
     "name": "stdout",
     "output_type": "stream",
     "text": [
      "     pizza_id  order_id pizza_name_id  quantity           order_date  \\\n",
      "36         37        15           NaN         1  2015-01-01 00:00:00   \n",
      "37         38        15           NaN         1  2015-01-01 00:00:00   \n",
      "38         39        15           NaN         1  2015-01-01 00:00:00   \n",
      "39         40        16           NaN         1  2015-01-01 00:00:00   \n",
      "40         41        16           NaN         1  2015-01-01 00:00:00   \n",
      "41         42        16           NaN         1  2015-01-01 00:00:00   \n",
      "309       310       131           NaN         1  2015-02-01 00:00:00   \n",
      "310       311       131           NaN         1  2015-02-01 00:00:00   \n",
      "311       312       132           NaN         1  2015-02-01 00:00:00   \n",
      "312       313       133           NaN         1  2015-02-01 00:00:00   \n",
      "313       314       133           NaN         1  2015-02-01 00:00:00   \n",
      "415       416       175           NaN         1  2015-03-01 00:00:00   \n",
      "416       417       176           NaN         1  2015-03-01 00:00:00   \n",
      "417       418       176           NaN         1  2015-03-01 00:00:00   \n",
      "418       419       177           NaN         1  2015-03-01 00:00:00   \n",
      "419       420       177           NaN         1  2015-03-01 00:00:00   \n",
      "\n",
      "    order_time  unit_price  total_price pizza_size pizza_category  \\\n",
      "36    13:33:00       18.50        18.50          L         Veggie   \n",
      "37    13:33:00       20.75        20.75          L        Supreme   \n",
      "38    13:33:00       12.00        12.00          S        Classic   \n",
      "39    13:34:07       17.95        17.95          L         Veggie   \n",
      "40    13:34:07       12.00        12.00          S        Classic   \n",
      "41    13:34:07       20.75        20.75          L        Chicken   \n",
      "309   21:33:10       12.00        12.00          S         Veggie   \n",
      "310   21:33:10       12.50        12.50          S        Supreme   \n",
      "311   21:42:45        9.75         9.75          S        Classic   \n",
      "312   22:00:17       20.75        20.75          L        Chicken   \n",
      "313   22:00:17       16.50        16.50          L        Classic   \n",
      "415   17:50:51       20.75        20.75          L        Supreme   \n",
      "416   17:51:57       20.75        20.75          L        Chicken   \n",
      "417   17:51:57       16.50        16.50          M        Supreme   \n",
      "418   17:54:36       12.00        12.00          S        Classic   \n",
      "419   17:54:36       20.75        20.75          L        Chicken   \n",
      "\n",
      "                                     pizza_ingredients  \\\n",
      "36   Mozzarella Cheese, Provolone Cheese, Smoked Go...   \n",
      "37   Soppressata Salami, Fontina Cheese, Mozzarella...   \n",
      "38   Kalamata Olives, Feta Cheese, Tomatoes, Garlic...   \n",
      "39   Ricotta Cheese, Gorgonzola Piccante Cheese, Mo...   \n",
      "40   Tomatoes, Anchovies, Green Olives, Red Onions,...   \n",
      "41   Chicken, Pineapple, Tomatoes, Red Peppers, Tha...   \n",
      "309  Spinach, Mushrooms, Tomatoes, Green Olives, Fe...   \n",
      "310  Spinach, Red Onions, Pepperoni, Tomatoes, Arti...   \n",
      "311                       Mozzarella Cheese, Pepperoni   \n",
      "312  Barbecued Chicken, Red Peppers, Green Peppers,...   \n",
      "313           Sliced Ham, Pineapple, Mozzarella Cheese   \n",
      "415  Calabrese Salami, Capocollo, Tomatoes, Red Oni...   \n",
      "416  Chicken, Artichoke, Spinach, Garlic, Jalapeno ...   \n",
      "417  Genoa Salami, Capocollo, Pepperoni, Tomatoes, ...   \n",
      "418  Tomatoes, Anchovies, Green Olives, Red Onions,...   \n",
      "419  Chicken, Pineapple, Tomatoes, Red Peppers, Tha...   \n",
      "\n",
      "                       pizza_name  \n",
      "36          The Five Cheese Pizza  \n",
      "37          The Soppressata Pizza  \n",
      "38                The Greek Pizza  \n",
      "39          The Four Cheese Pizza  \n",
      "40           The Napolitana Pizza  \n",
      "41         The Thai Chicken Pizza  \n",
      "309        The Green Garden Pizza  \n",
      "310     The Spinach Supreme Pizza  \n",
      "311           The Pepperoni Pizza  \n",
      "312    The Barbecue Chicken Pizza  \n",
      "313            The Hawaiian Pizza  \n",
      "415     The Italian Supreme Pizza  \n",
      "416  The California Chicken Pizza  \n",
      "417       The Pepper Salami Pizza  \n",
      "418          The Napolitana Pizza  \n",
      "419        The Thai Chicken Pizza  \n"
     ]
    }
   ],
   "source": [
    "null_rows = df[df['pizza_name_id'].isnull()]\n",
    "print(null_rows)\n"
   ]
  },
  {
   "cell_type": "code",
   "execution_count": 54,
   "id": "99efc761",
   "metadata": {},
   "outputs": [],
   "source": [
    "import numpy as np\n",
    "\n",
    "df['pizza_name_id'] = df['pizza_name_id'].replace(['', 'NaN', 'null', 'None'], np.nan)\n"
   ]
  },
  {
   "cell_type": "code",
   "execution_count": 55,
   "id": "350bdbe8",
   "metadata": {},
   "outputs": [
    {
     "name": "stdout",
     "output_type": "stream",
     "text": [
      "Rows with empty strings in pizza_name_id:\n",
      "Empty DataFrame\n",
      "Columns: [pizza_id, order_id, pizza_name_id, quantity, order_date, order_time, unit_price, total_price, pizza_size, pizza_category, pizza_ingredients, pizza_name]\n",
      "Index: []\n"
     ]
    }
   ],
   "source": [
    "print(\"Rows with empty strings in pizza_name_id:\")\n",
    "print(df[df['pizza_name_id'] == ''])\n"
   ]
  },
  {
   "cell_type": "code",
   "execution_count": 56,
   "id": "62a128f7",
   "metadata": {},
   "outputs": [
    {
     "name": "stdout",
     "output_type": "stream",
     "text": [
      "Rows with 'NaN' in pizza_name_id:\n",
      "Empty DataFrame\n",
      "Columns: [pizza_id, order_id, pizza_name_id, quantity, order_date, order_time, unit_price, total_price, pizza_size, pizza_category, pizza_ingredients, pizza_name]\n",
      "Index: []\n",
      "Rows with 'null' in pizza_name_id:\n",
      "Empty DataFrame\n",
      "Columns: [pizza_id, order_id, pizza_name_id, quantity, order_date, order_time, unit_price, total_price, pizza_size, pizza_category, pizza_ingredients, pizza_name]\n",
      "Index: []\n"
     ]
    }
   ],
   "source": [
    "# Check for rows with 'NaN' as a string\n",
    "print(\"Rows with 'NaN' in pizza_name_id:\")\n",
    "print(df[df['pizza_name_id'] == 'NaN'])\n",
    "\n",
    "# Check for rows with 'null' as a string\n",
    "print(\"Rows with 'null' in pizza_name_id:\")\n",
    "print(df[df['pizza_name_id'] == 'null'])\n"
   ]
  },
  {
   "cell_type": "code",
   "execution_count": 57,
   "id": "84d0721c",
   "metadata": {},
   "outputs": [],
   "source": [
    "df['pizza_name_id'] = df['pizza_name_id'].fillna(df['pizza_ingredients'] + ' - ' + df['pizza_size'])\n"
   ]
  },
  {
   "cell_type": "code",
   "execution_count": 58,
   "id": "35adfc1e",
   "metadata": {},
   "outputs": [
    {
     "data": {
      "text/plain": [
       "pizza_id              0\n",
       "order_id              0\n",
       "pizza_name_id         0\n",
       "quantity              0\n",
       "order_date            0\n",
       "order_time            0\n",
       "unit_price            0\n",
       "total_price           7\n",
       "pizza_size            0\n",
       "pizza_category       23\n",
       "pizza_ingredients    13\n",
       "pizza_name            7\n",
       "dtype: int64"
      ]
     },
     "execution_count": 58,
     "metadata": {},
     "output_type": "execute_result"
    }
   ],
   "source": [
    "df.isnull().sum()"
   ]
  },
  {
   "cell_type": "code",
   "execution_count": 59,
   "id": "b64087ef",
   "metadata": {},
   "outputs": [
    {
     "name": "stdout",
     "output_type": "stream",
     "text": [
      "     pizza_id  order_id  pizza_name_id  quantity           order_date  \\\n",
      "781       782       341      bbq_ckn_m         1  2015-06-01 00:00:00   \n",
      "782       783       341    pepperoni_s         1  2015-06-01 00:00:00   \n",
      "783       784       342     sicilian_l         1  2015-06-01 00:00:00   \n",
      "784       785       342   southw_ckn_l         1  2015-06-01 00:00:00   \n",
      "785       786       343  five_cheese_l         1  2015-06-01 00:00:00   \n",
      "786       787       343  four_cheese_m         1  2015-06-01 00:00:00   \n",
      "787       788       344  ital_cpcllo_m         1  2015-06-01 00:00:00   \n",
      "\n",
      "    order_time  unit_price  total_price pizza_size pizza_category  \\\n",
      "781   15:35:47       16.75          NaN          M        Chicken   \n",
      "782   15:35:47        9.75          NaN          S        Classic   \n",
      "783   15:44:12       20.25          NaN          L        Supreme   \n",
      "784   15:44:12       20.75          NaN          L        Chicken   \n",
      "785   15:45:37       18.50          NaN          L         Veggie   \n",
      "786   15:45:37       14.75          NaN          M         Veggie   \n",
      "787   16:01:11       16.00          NaN          M        Classic   \n",
      "\n",
      "                                     pizza_ingredients  \\\n",
      "781  Barbecued Chicken, Red Peppers, Green Peppers,...   \n",
      "782                       Mozzarella Cheese, Pepperoni   \n",
      "783  Coarse Sicilian Salami, Tomatoes, Green Olives...   \n",
      "784  Chicken, Tomatoes, Red Peppers, Red Onions, Ja...   \n",
      "785  Mozzarella Cheese, Provolone Cheese, Smoked Go...   \n",
      "786  Ricotta Cheese, Gorgonzola Piccante Cheese, Mo...   \n",
      "787  Capocollo, Red Peppers, Tomatoes, Goat Cheese,...   \n",
      "\n",
      "                      pizza_name  \n",
      "781   The Barbecue Chicken Pizza  \n",
      "782          The Pepperoni Pizza  \n",
      "783           The Sicilian Pizza  \n",
      "784  The Southwest Chicken Pizza  \n",
      "785        The Five Cheese Pizza  \n",
      "786        The Four Cheese Pizza  \n",
      "787  The Italian Capocollo Pizza  \n"
     ]
    }
   ],
   "source": [
    "print(df[df['total_price'].isnull()])\n"
   ]
  },
  {
   "cell_type": "code",
   "execution_count": 60,
   "id": "414c72d5",
   "metadata": {},
   "outputs": [
    {
     "name": "stdout",
     "output_type": "stream",
     "text": [
      "       pizza_id  order_id  pizza_name_id  quantity           order_date  \\\n",
      "0             1         1     hawaiian_m         1  2015-01-01 00:00:00   \n",
      "1             2         2  classic_dlx_m         1  2015-01-01 00:00:00   \n",
      "2             3         2  five_cheese_l         1  2015-01-01 00:00:00   \n",
      "3             4         2    ital_supr_l         1  2015-01-01 00:00:00   \n",
      "4             5         2     mexicana_m         1  2015-01-01 00:00:00   \n",
      "...         ...       ...            ...       ...                  ...   \n",
      "48615     48616     21348  ckn_alfredo_m         1           31-12-2015   \n",
      "48616     48617     21348  four_cheese_l         1           31-12-2015   \n",
      "48617     48618     21348   napolitana_s         1           31-12-2015   \n",
      "48618     48619     21349     mexicana_l         1           31-12-2015   \n",
      "48619     48620     21350      bbq_ckn_s         1           31-12-2015   \n",
      "\n",
      "      order_time  unit_price  total_price pizza_size pizza_category  \\\n",
      "0       11:38:36       13.25        13.25          M        Classic   \n",
      "1       11:57:40       16.00        16.00          M        Classic   \n",
      "2       11:57:40       18.50        18.50          L         Veggie   \n",
      "3       11:57:40       20.75        20.75          L        Supreme   \n",
      "4       11:57:40       16.00        16.00          M         Veggie   \n",
      "...          ...         ...          ...        ...            ...   \n",
      "48615   21:23:10       16.75        16.75          M        Chicken   \n",
      "48616   21:23:10       17.95        17.95          L         Veggie   \n",
      "48617   21:23:10       12.00        12.00          S        Classic   \n",
      "48618   22:09:54       20.25        20.25          L         Veggie   \n",
      "48619   23:02:05       12.75        12.75          S        Chicken   \n",
      "\n",
      "                                       pizza_ingredients  \\\n",
      "0               Sliced Ham, Pineapple, Mozzarella Cheese   \n",
      "1      Pepperoni, Mushrooms, Red Onions, Red Peppers,...   \n",
      "2      Mozzarella Cheese, Provolone Cheese, Smoked Go...   \n",
      "3      Calabrese Salami, Capocollo, Tomatoes, Red Oni...   \n",
      "4      Tomatoes, Red Peppers, Jalapeno Peppers, Red O...   \n",
      "...                                                  ...   \n",
      "48615  Chicken, Red Onions, Red Peppers, Mushrooms, A...   \n",
      "48616  Ricotta Cheese, Gorgonzola Piccante Cheese, Mo...   \n",
      "48617  Tomatoes, Anchovies, Green Olives, Red Onions,...   \n",
      "48618  Tomatoes, Red Peppers, Jalapeno Peppers, Red O...   \n",
      "48619  Barbecued Chicken, Red Peppers, Green Peppers,...   \n",
      "\n",
      "                       pizza_name  \n",
      "0              The Hawaiian Pizza  \n",
      "1        The Classic Deluxe Pizza  \n",
      "2           The Five Cheese Pizza  \n",
      "3       The Italian Supreme Pizza  \n",
      "4              The Mexicana Pizza  \n",
      "...                           ...  \n",
      "48615   The Chicken Alfredo Pizza  \n",
      "48616       The Four Cheese Pizza  \n",
      "48617        The Napolitana Pizza  \n",
      "48618          The Mexicana Pizza  \n",
      "48619  The Barbecue Chicken Pizza  \n",
      "\n",
      "[47686 rows x 12 columns]\n"
     ]
    }
   ],
   "source": [
    "print(df[df['unit_price'] == df['total_price']])\n"
   ]
  },
  {
   "cell_type": "code",
   "execution_count": 61,
   "id": "e0f72aa2",
   "metadata": {},
   "outputs": [],
   "source": [
    "df['total_price'] = df['total_price'].fillna(df['unit_price'])\n"
   ]
  },
  {
   "cell_type": "code",
   "execution_count": 62,
   "id": "da62c450",
   "metadata": {},
   "outputs": [
    {
     "data": {
      "text/plain": [
       "pizza_id              0\n",
       "order_id              0\n",
       "pizza_name_id         0\n",
       "quantity              0\n",
       "order_date            0\n",
       "order_time            0\n",
       "unit_price            0\n",
       "total_price           0\n",
       "pizza_size            0\n",
       "pizza_category       23\n",
       "pizza_ingredients    13\n",
       "pizza_name            7\n",
       "dtype: int64"
      ]
     },
     "execution_count": 62,
     "metadata": {},
     "output_type": "execute_result"
    }
   ],
   "source": [
    "df.isnull().sum()\n"
   ]
  },
  {
   "cell_type": "code",
   "execution_count": 63,
   "id": "966bf557",
   "metadata": {},
   "outputs": [
    {
     "name": "stdout",
     "output_type": "stream",
     "text": [
      "     pizza_id  order_id   pizza_name_id  quantity           order_date  \\\n",
      "426       427       181      mexicana_l         1  2015-03-01 00:00:00   \n",
      "427       428       182    brie_carre_s         1  2015-03-01 00:00:00   \n",
      "428       429       182  peppr_salami_l         1  2015-03-01 00:00:00   \n",
      "429       430       183    napolitana_m         1  2015-03-01 00:00:00   \n",
      "430       431       183    spin_pesto_l         1  2015-03-01 00:00:00   \n",
      "431       432       183    spin_pesto_s         1  2015-03-01 00:00:00   \n",
      "432       433       184      hawaiian_l         1  2015-03-01 00:00:00   \n",
      "433       434       185      sicilian_m         1  2015-03-01 00:00:00   \n",
      "434       435       185    spin_pesto_s         1  2015-03-01 00:00:00   \n",
      "435       436       186      mexicana_l         1  2015-03-01 00:00:00   \n",
      "486       487       207    spicy_ital_l         1  2015-04-01 00:00:00   \n",
      "487       488       208       bbq_ckn_l         1  2015-04-01 00:00:00   \n",
      "488       489       208       bbq_ckn_s         1  2015-04-01 00:00:00   \n",
      "489       490       208   ckn_alfredo_m         1  2015-04-01 00:00:00   \n",
      "490       491       208     pepperoni_m         1  2015-04-01 00:00:00   \n",
      "491       492       208     the_greek_m         1  2015-04-01 00:00:00   \n",
      "511       512       219   spinach_fet_m         1  2015-04-01 00:00:00   \n",
      "512       513       220      hawaiian_s         1  2015-04-01 00:00:00   \n",
      "513       514       220   ital_cpcllo_s         1  2015-04-01 00:00:00   \n",
      "514       515       220    napolitana_l         1  2015-04-01 00:00:00   \n",
      "515       516       220    spicy_ital_l         1  2015-04-01 00:00:00   \n",
      "516       517       221   five_cheese_l         1  2015-04-01 00:00:00   \n",
      "517       518       221    prsc_argla_m         1  2015-04-01 00:00:00   \n",
      "\n",
      "    order_time  unit_price  total_price pizza_size pizza_category  \\\n",
      "426   18:49:32       20.25        20.25          L            NaN   \n",
      "427   18:50:10       23.65        23.65          S            NaN   \n",
      "428   18:50:10       20.75        20.75          L            NaN   \n",
      "429   18:54:55       16.00        16.00          M            NaN   \n",
      "430   18:54:55       20.75        20.75          L            NaN   \n",
      "431   18:54:55       12.50        12.50          S            NaN   \n",
      "432   18:59:05       16.50        16.50          L            NaN   \n",
      "433   19:08:33       16.25        16.25          M            NaN   \n",
      "434   19:08:33       12.50        12.50          S            NaN   \n",
      "435   19:36:00       20.25        20.25          L            NaN   \n",
      "486   12:03:58       20.75        20.75          L            NaN   \n",
      "487   12:12:05       20.75        20.75          L            NaN   \n",
      "488   12:12:05       12.75        12.75          S            NaN   \n",
      "489   12:12:05       16.75        16.75          M            NaN   \n",
      "490   12:12:05       12.50        12.50          M            NaN   \n",
      "491   12:12:05       16.00        16.00          M            NaN   \n",
      "511   14:42:01       16.00        16.00          M            NaN   \n",
      "512   15:31:59       10.50        10.50          S            NaN   \n",
      "513   15:31:59       12.00        12.00          S            NaN   \n",
      "514   15:31:59       20.50        20.50          L            NaN   \n",
      "515   15:31:59       20.75        20.75          L            NaN   \n",
      "516   15:33:18       18.50        18.50          L            NaN   \n",
      "517   15:33:18       16.50        16.50          M            NaN   \n",
      "\n",
      "                                     pizza_ingredients  \\\n",
      "426  Tomatoes, Red Peppers, Jalapeno Peppers, Red O...   \n",
      "427  Brie Carre Cheese, Prosciutto, Caramelized Oni...   \n",
      "428  Genoa Salami, Capocollo, Pepperoni, Tomatoes, ...   \n",
      "429  Tomatoes, Anchovies, Green Olives, Red Onions,...   \n",
      "430  Spinach, Artichokes, Tomatoes, Sun-dried Tomat...   \n",
      "431  Spinach, Artichokes, Tomatoes, Sun-dried Tomat...   \n",
      "432           Sliced Ham, Pineapple, Mozzarella Cheese   \n",
      "433  Coarse Sicilian Salami, Tomatoes, Green Olives...   \n",
      "434  Spinach, Artichokes, Tomatoes, Sun-dried Tomat...   \n",
      "435  Tomatoes, Red Peppers, Jalapeno Peppers, Red O...   \n",
      "486  Capocollo, Tomatoes, Goat Cheese, Artichokes, ...   \n",
      "487  Barbecued Chicken, Red Peppers, Green Peppers,...   \n",
      "488  Barbecued Chicken, Red Peppers, Green Peppers,...   \n",
      "489  Chicken, Red Onions, Red Peppers, Mushrooms, A...   \n",
      "490                       Mozzarella Cheese, Pepperoni   \n",
      "491  Kalamata Olives, Feta Cheese, Tomatoes, Garlic...   \n",
      "511  Spinach, Mushrooms, Red Onions, Feta Cheese, G...   \n",
      "512           Sliced Ham, Pineapple, Mozzarella Cheese   \n",
      "513  Capocollo, Red Peppers, Tomatoes, Goat Cheese,...   \n",
      "514  Tomatoes, Anchovies, Green Olives, Red Onions,...   \n",
      "515  Capocollo, Tomatoes, Goat Cheese, Artichokes, ...   \n",
      "516  Mozzarella Cheese, Provolone Cheese, Smoked Go...   \n",
      "517  Prosciutto di San Daniele, Arugula, Mozzarella...   \n",
      "\n",
      "                           pizza_name  \n",
      "426                The Mexicana Pizza  \n",
      "427              The Brie Carre Pizza  \n",
      "428           The Pepper Salami Pizza  \n",
      "429              The Napolitana Pizza  \n",
      "430           The Spinach Pesto Pizza  \n",
      "431           The Spinach Pesto Pizza  \n",
      "432                The Hawaiian Pizza  \n",
      "433                The Sicilian Pizza  \n",
      "434           The Spinach Pesto Pizza  \n",
      "435                The Mexicana Pizza  \n",
      "486           The Spicy Italian Pizza  \n",
      "487        The Barbecue Chicken Pizza  \n",
      "488        The Barbecue Chicken Pizza  \n",
      "489         The Chicken Alfredo Pizza  \n",
      "490               The Pepperoni Pizza  \n",
      "491                   The Greek Pizza  \n",
      "511        The Spinach and Feta Pizza  \n",
      "512                The Hawaiian Pizza  \n",
      "513       The Italian Capocollo Pizza  \n",
      "514              The Napolitana Pizza  \n",
      "515           The Spicy Italian Pizza  \n",
      "516             The Five Cheese Pizza  \n",
      "517  The Prosciutto and Arugula Pizza  \n"
     ]
    }
   ],
   "source": [
    "print(df[df['pizza_category'].isnull()])"
   ]
  },
  {
   "cell_type": "code",
   "execution_count": 64,
   "id": "8e6d0134",
   "metadata": {},
   "outputs": [],
   "source": [
    "# Create the mapping from ingredients to category\n",
    "ingredient_to_category = df.dropna(subset=['pizza_category']).drop_duplicates('pizza_ingredients').set_index('pizza_ingredients')['pizza_category']\n",
    "\n",
    "# Fill missing values in pizza_category based on the mapping\n",
    "df['pizza_category'] = df['pizza_category'].fillna(df['pizza_ingredients'].map(ingredient_to_category))\n"
   ]
  },
  {
   "cell_type": "code",
   "execution_count": 65,
   "id": "77b4e6ec",
   "metadata": {},
   "outputs": [],
   "source": [
    "# Step 1: Create mapping from pizza_category to pizza_ingredients\n",
    "category_to_ingredients = df.dropna(subset=['pizza_ingredients']).drop_duplicates('pizza_category').set_index('pizza_category')['pizza_ingredients']\n",
    "\n",
    "# Step 2: Fill missing pizza_ingredients using the mapping\n",
    "df['pizza_ingredients'] = df['pizza_ingredients'].fillna(df['pizza_category'].map(category_to_ingredients))\n"
   ]
  },
  {
   "cell_type": "code",
   "execution_count": 66,
   "id": "8af6abbe",
   "metadata": {},
   "outputs": [],
   "source": [
    "# Step 1: Create mapping from ingredients to pizza_name\n",
    "ingredient_to_name = df.dropna(subset=['pizza_name']).drop_duplicates('pizza_ingredients').set_index('pizza_ingredients')['pizza_name']\n",
    "\n",
    "# Step 2: Fill missing pizza_name using the mapping\n",
    "df['pizza_name'] = df['pizza_name'].fillna(df['pizza_ingredients'].map(ingredient_to_name))\n"
   ]
  },
  {
   "cell_type": "code",
   "execution_count": 67,
   "id": "7094e394",
   "metadata": {},
   "outputs": [
    {
     "data": {
      "text/plain": [
       "pizza_id             0\n",
       "order_id             0\n",
       "pizza_name_id        0\n",
       "quantity             0\n",
       "order_date           0\n",
       "order_time           0\n",
       "unit_price           0\n",
       "total_price          0\n",
       "pizza_size           0\n",
       "pizza_category       0\n",
       "pizza_ingredients    0\n",
       "pizza_name           0\n",
       "dtype: int64"
      ]
     },
     "execution_count": 67,
     "metadata": {},
     "output_type": "execute_result"
    }
   ],
   "source": [
    "df.isnull().sum()"
   ]
  },
  {
   "cell_type": "code",
   "execution_count": 68,
   "id": "0ff45378",
   "metadata": {},
   "outputs": [],
   "source": [
    "df_copy = df.copy()\n"
   ]
  },
  {
   "cell_type": "code",
   "execution_count": 69,
   "id": "a9f7694a",
   "metadata": {},
   "outputs": [
    {
     "name": "stdout",
     "output_type": "stream",
     "text": [
      "Empty DataFrame\n",
      "Columns: [pizza_id, order_id, pizza_name_id, quantity, order_date, order_time, unit_price, total_price, pizza_size, pizza_category, pizza_ingredients, pizza_name]\n",
      "Index: []\n"
     ]
    }
   ],
   "source": [
    "print(df[df.duplicated()])\n"
   ]
  },
  {
   "cell_type": "code",
   "execution_count": 70,
   "id": "5c5ca02d",
   "metadata": {},
   "outputs": [],
   "source": [
    "df.to_excel('cleaned_1.xlsx', index=False)\n"
   ]
  },
  {
   "cell_type": "code",
   "execution_count": null,
   "id": "d02a5b08",
   "metadata": {},
   "outputs": [],
   "source": []
  },
  {
   "cell_type": "code",
   "execution_count": null,
   "id": "80d0a0e6",
   "metadata": {},
   "outputs": [],
   "source": []
  },
  {
   "cell_type": "markdown",
   "id": "9dffc573",
   "metadata": {},
   "source": [
    "EXPLORATELY DATA ANALYSIS\n"
   ]
  },
  {
   "cell_type": "code",
   "execution_count": null,
   "id": "59608713",
   "metadata": {},
   "outputs": [],
   "source": []
  },
  {
   "cell_type": "code",
   "execution_count": null,
   "id": "6d9a322e",
   "metadata": {},
   "outputs": [],
   "source": []
  },
  {
   "cell_type": "code",
   "execution_count": null,
   "id": "848c32dc",
   "metadata": {},
   "outputs": [],
   "source": []
  },
  {
   "cell_type": "code",
   "execution_count": 71,
   "id": "f9188a9a",
   "metadata": {},
   "outputs": [],
   "source": [
    "#"
   ]
  },
  {
   "cell_type": "code",
   "execution_count": null,
   "id": "ac6e3f7e",
   "metadata": {},
   "outputs": [],
   "source": []
  },
  {
   "cell_type": "code",
   "execution_count": null,
   "id": "d64c573a",
   "metadata": {},
   "outputs": [],
   "source": []
  },
  {
   "cell_type": "code",
   "execution_count": null,
   "id": "f57d84b5",
   "metadata": {},
   "outputs": [],
   "source": []
  },
  {
   "cell_type": "code",
   "execution_count": null,
   "id": "73c23c0a",
   "metadata": {},
   "outputs": [],
   "source": []
  },
  {
   "cell_type": "code",
   "execution_count": null,
   "id": "b951db71",
   "metadata": {},
   "outputs": [],
   "source": []
  },
  {
   "cell_type": "code",
   "execution_count": null,
   "id": "84fe24bc",
   "metadata": {},
   "outputs": [],
   "source": [
    "\n"
   ]
  },
  {
   "cell_type": "markdown",
   "id": "0d4423b9",
   "metadata": {},
   "source": [
    "Feature engineering\n"
   ]
  },
  {
   "cell_type": "code",
   "execution_count": null,
   "id": "789968fc",
   "metadata": {},
   "outputs": [],
   "source": []
  },
  {
   "cell_type": "code",
   "execution_count": null,
   "id": "1943a78e",
   "metadata": {},
   "outputs": [],
   "source": [
    "\n"
   ]
  },
  {
   "cell_type": "code",
   "execution_count": null,
   "id": "f6766d06",
   "metadata": {},
   "outputs": [],
   "source": []
  },
  {
   "cell_type": "code",
   "execution_count": null,
   "id": "e96a502c",
   "metadata": {},
   "outputs": [],
   "source": []
  },
  {
   "cell_type": "code",
   "execution_count": 72,
   "id": "dce9326c",
   "metadata": {},
   "outputs": [
    {
     "name": "stderr",
     "output_type": "stream",
     "text": [
      "16:04:25 - cmdstanpy - INFO - Chain [1] start processing\n",
      "16:04:25 - cmdstanpy - INFO - Chain [1] done processing\n"
     ]
    },
    {
     "name": "stdout",
     "output_type": "stream",
     "text": [
      "MAPE: 19.98%\n"
     ]
    },
    {
     "ename": "ConversionError",
     "evalue": "Failed to convert value(s) to axis units: array([datetime.datetime(2015, 1, 1, 0, 0),\n       datetime.datetime(2015, 1, 2, 0, 0),\n       datetime.datetime(2015, 1, 3, 0, 0),\n       datetime.datetime(2015, 1, 4, 0, 0),\n       datetime.datetime(2015, 1, 5, 0, 0),\n       datetime.datetime(2015, 1, 6, 0, 0),\n       datetime.datetime(2015, 1, 7, 0, 0),\n       datetime.datetime(2015, 1, 8, 0, 0),\n       datetime.datetime(2015, 1, 9, 0, 0),\n       datetime.datetime(2015, 1, 10, 0, 0),\n       datetime.datetime(2015, 1, 11, 0, 0),\n       datetime.datetime(2015, 1, 12, 0, 0),\n       datetime.datetime(2015, 2, 1, 0, 0),\n       datetime.datetime(2015, 2, 2, 0, 0),\n       datetime.datetime(2015, 2, 3, 0, 0),\n       datetime.datetime(2015, 2, 4, 0, 0),\n       datetime.datetime(2015, 2, 5, 0, 0),\n       datetime.datetime(2015, 2, 6, 0, 0),\n       datetime.datetime(2015, 2, 7, 0, 0),\n       datetime.datetime(2015, 2, 8, 0, 0),\n       datetime.datetime(2015, 2, 9, 0, 0),\n       datetime.datetime(2015, 2, 10, 0, 0),\n       datetime.datetime(2015, 2, 11, 0, 0),\n       datetime.datetime(2015, 2, 12, 0, 0),\n       datetime.datetime(2015, 3, 1, 0, 0),\n       datetime.datetime(2015, 3, 2, 0, 0),\n       datetime.datetime(2015, 3, 3, 0, 0),\n       datetime.datetime(2015, 3, 4, 0, 0),\n       datetime.datetime(2015, 3, 5, 0, 0),\n       datetime.datetime(2015, 3, 6, 0, 0),\n       datetime.datetime(2015, 3, 7, 0, 0),\n       datetime.datetime(2015, 3, 8, 0, 0),\n       datetime.datetime(2015, 3, 9, 0, 0),\n       datetime.datetime(2015, 3, 10, 0, 0),\n       datetime.datetime(2015, 3, 11, 0, 0),\n       datetime.datetime(2015, 3, 12, 0, 0),\n       datetime.datetime(2015, 4, 1, 0, 0),\n       datetime.datetime(2015, 4, 2, 0, 0),\n       datetime.datetime(2015, 4, 3, 0, 0),\n       datetime.datetime(2015, 4, 4, 0, 0),\n       datetime.datetime(2015, 4, 5, 0, 0),\n       datetime.datetime(2015, 4, 6, 0, 0),\n       datetime.datetime(2015, 4, 7, 0, 0),\n       datetime.datetime(2015, 4, 8, 0, 0),\n       datetime.datetime(2015, 4, 9, 0, 0),\n       datetime.datetime(2015, 4, 10, 0, 0),\n       datetime.datetime(2015, 4, 11, 0, 0),\n       datetime.datetime(2015, 4, 12, 0, 0),\n       datetime.datetime(2015, 5, 1, 0, 0),\n       datetime.datetime(2015, 5, 2, 0, 0),\n       datetime.datetime(2015, 5, 3, 0, 0),\n       datetime.datetime(2015, 5, 4, 0, 0),\n       datetime.datetime(2015, 5, 5, 0, 0),\n       datetime.datetime(2015, 5, 6, 0, 0),\n       datetime.datetime(2015, 5, 7, 0, 0),\n       datetime.datetime(2015, 5, 8, 0, 0),\n       datetime.datetime(2015, 5, 9, 0, 0),\n       datetime.datetime(2015, 5, 11, 0, 0),\n       datetime.datetime(2015, 5, 12, 0, 0),\n       datetime.datetime(2015, 6, 1, 0, 0),\n       datetime.datetime(2015, 6, 2, 0, 0),\n       datetime.datetime(2015, 6, 3, 0, 0),\n       datetime.datetime(2015, 6, 4, 0, 0),\n       datetime.datetime(2015, 6, 5, 0, 0),\n       datetime.datetime(2015, 6, 6, 0, 0),\n       datetime.datetime(2015, 6, 7, 0, 0),\n       datetime.datetime(2015, 6, 8, 0, 0),\n       datetime.datetime(2015, 6, 9, 0, 0),\n       datetime.datetime(2015, 6, 10, 0, 0),\n       datetime.datetime(2015, 6, 11, 0, 0),\n       datetime.datetime(2015, 6, 12, 0, 0),\n       datetime.datetime(2015, 7, 1, 0, 0),\n       datetime.datetime(2015, 7, 2, 0, 0),\n       datetime.datetime(2015, 7, 3, 0, 0),\n       datetime.datetime(2015, 7, 4, 0, 0),\n       datetime.datetime(2015, 7, 5, 0, 0),\n       datetime.datetime(2015, 7, 6, 0, 0),\n       datetime.datetime(2015, 7, 7, 0, 0),\n       datetime.datetime(2015, 7, 8, 0, 0),\n       datetime.datetime(2015, 7, 9, 0, 0),\n       datetime.datetime(2015, 7, 10, 0, 0),\n       datetime.datetime(2015, 7, 11, 0, 0),\n       datetime.datetime(2015, 7, 12, 0, 0),\n       datetime.datetime(2015, 8, 1, 0, 0),\n       datetime.datetime(2015, 8, 2, 0, 0),\n       datetime.datetime(2015, 8, 3, 0, 0),\n       datetime.datetime(2015, 8, 4, 0, 0),\n       datetime.datetime(2015, 8, 5, 0, 0),\n       datetime.datetime(2015, 8, 6, 0, 0),\n       datetime.datetime(2015, 8, 7, 0, 0),\n       datetime.datetime(2015, 8, 8, 0, 0),\n       datetime.datetime(2015, 8, 9, 0, 0),\n       datetime.datetime(2015, 8, 10, 0, 0),\n       datetime.datetime(2015, 8, 11, 0, 0),\n       datetime.datetime(2015, 8, 12, 0, 0),\n       datetime.datetime(2015, 9, 1, 0, 0),\n       datetime.datetime(2015, 9, 2, 0, 0),\n       datetime.datetime(2015, 9, 3, 0, 0),\n       datetime.datetime(2015, 9, 4, 0, 0),\n       datetime.datetime(2015, 9, 5, 0, 0),\n       datetime.datetime(2015, 9, 6, 0, 0),\n       datetime.datetime(2015, 9, 7, 0, 0),\n       datetime.datetime(2015, 9, 8, 0, 0),\n       datetime.datetime(2015, 9, 9, 0, 0),\n       datetime.datetime(2015, 9, 10, 0, 0),\n       datetime.datetime(2015, 9, 11, 0, 0),\n       datetime.datetime(2015, 9, 12, 0, 0),\n       datetime.datetime(2015, 10, 1, 0, 0),\n       datetime.datetime(2015, 10, 2, 0, 0),\n       datetime.datetime(2015, 10, 3, 0, 0),\n       datetime.datetime(2015, 10, 4, 0, 0),\n       datetime.datetime(2015, 10, 5, 0, 0),\n       datetime.datetime(2015, 10, 6, 0, 0),\n       datetime.datetime(2015, 10, 7, 0, 0),\n       datetime.datetime(2015, 10, 8, 0, 0),\n       datetime.datetime(2015, 10, 9, 0, 0),\n       datetime.datetime(2015, 10, 10, 0, 0),\n       datetime.datetime(2015, 10, 11, 0, 0),\n       datetime.datetime(2015, 10, 12, 0, 0),\n       datetime.datetime(2015, 11, 1, 0, 0),\n       datetime.datetime(2015, 11, 2, 0, 0),\n       datetime.datetime(2015, 11, 3, 0, 0),\n       datetime.datetime(2015, 11, 4, 0, 0),\n       datetime.datetime(2015, 11, 5, 0, 0),\n       datetime.datetime(2015, 11, 6, 0, 0),\n       datetime.datetime(2015, 11, 7, 0, 0),\n       datetime.datetime(2015, 11, 8, 0, 0),\n       datetime.datetime(2015, 11, 9, 0, 0),\n       datetime.datetime(2015, 11, 10, 0, 0),\n       datetime.datetime(2015, 11, 11, 0, 0),\n       datetime.datetime(2015, 11, 12, 0, 0),\n       datetime.datetime(2015, 12, 1, 0, 0),\n       datetime.datetime(2015, 12, 2, 0, 0),\n       datetime.datetime(2015, 12, 3, 0, 0),\n       datetime.datetime(2015, 12, 4, 0, 0),\n       datetime.datetime(2015, 12, 5, 0, 0),\n       datetime.datetime(2015, 12, 6, 0, 0),\n       datetime.datetime(2015, 12, 7, 0, 0),\n       datetime.datetime(2015, 12, 8, 0, 0),\n       datetime.datetime(2015, 12, 9, 0, 0),\n       datetime.datetime(2015, 12, 11, 0, 0),\n       datetime.datetime(2015, 12, 12, 0, 0), '13-01-2015', '13-02-2015',\n       '13-03-2015', '13-04-2015', '13-05-2015', '13-06-2015',\n       '13-07-2015', '13-08-2015', '13-09-2015', '13-10-2015',\n       '13-11-2015', '13-12-2015', '14-01-2015', '14-02-2015',\n       '14-03-2015', '14-04-2015', '14-05-2015', '14-06-2015',\n       '14-07-2015', '14-08-2015', '14-09-2015', '14-10-2015',\n       '14-11-2015', '14-12-2015', '15-01-2015', '15-02-2015',\n       '15-03-2015', '15-04-2015', '15-05-2015', '15-06-2015',\n       '15-07-2015', '15-08-2015', '15-09-2015', '15-10-2015',\n       '15-11-2015', '15-12-2015', '16-01-2015', '16-02-2015',\n       '16-03-2015', '16-04-2015', '16-05-2015', '16-06-2015',\n       '16-07-2015', '16-08-2015', '16-09-2015', '16-10-2015',\n       '16-11-2015', '16-12-2015', '17-01-2015', '17-02-2015',\n       '17-03-2015', '17-04-2015', '17-05-2015', '17-06-2015',\n       '17-07-2015', '17-08-2015', '17-09-2015', '17-10-2015',\n       '17-11-2015', '17-12-2015', '18-01-2015', '18-02-2015',\n       '18-03-2015', '18-04-2015', '18-05-2015', '18-06-2015',\n       '18-07-2015', '18-08-2015', '18-09-2015', '18-10-2015',\n       '18-11-2015', '18-12-2015', '19-01-2015', '19-02-2015',\n       '19-03-2015', '19-04-2015', '19-05-2015', '19-06-2015',\n       '19-07-2015', '19-08-2015', '19-09-2015', '19-11-2015',\n       '19-12-2015', '20-01-2015', '20-02-2015', '20-03-2015',\n       '20-04-2015', '20-05-2015', '20-06-2015', '20-07-2015',\n       '20-08-2015', '20-09-2015', '20-10-2015', '20-11-2015',\n       '20-12-2015', '21-01-2015', '21-02-2015', '21-03-2015',\n       '21-04-2015', '21-05-2015', '21-06-2015', '21-07-2015',\n       '21-08-2015', '21-09-2015', '21-10-2015', '21-11-2015',\n       '21-12-2015', '22-01-2015', '22-02-2015', '22-03-2015',\n       '22-04-2015', '22-05-2015', '22-06-2015', '22-07-2015',\n       '22-08-2015', '22-09-2015', '22-10-2015', '22-11-2015',\n       '22-12-2015', '23-01-2015', '23-02-2015', '23-03-2015',\n       '23-04-2015', '23-05-2015', '23-06-2015', '23-07-2015',\n       '23-08-2015', '23-09-2015', '23-10-2015', '23-11-2015',\n       '23-12-2015', '24-01-2015', '24-02-2015', '24-03-2015',\n       '24-04-2015', '24-05-2015', '24-06-2015', '24-07-2015',\n       '24-08-2015', '24-10-2015', '24-11-2015', '24-12-2015',\n       '25-01-2015', '25-02-2015', '25-03-2015', '25-04-2015',\n       '25-05-2015', '25-06-2015', '25-07-2015', '25-08-2015',\n       '25-10-2015', '25-11-2015', '26-01-2015', '26-02-2015',\n       '26-03-2015', '26-04-2015', '26-05-2015', '26-06-2015',\n       '26-07-2015', '26-08-2015', '26-09-2015', '26-11-2015',\n       '26-12-2015', '27-01-2015', '27-02-2015', '27-03-2015',\n       '27-04-2015', '27-05-2015', '27-06-2015', '27-07-2015',\n       '27-08-2015', '27-09-2015', '27-10-2015', '27-11-2015',\n       '27-12-2015', '28-01-2015', '28-02-2015', '28-03-2015',\n       '28-04-2015', '28-05-2015', '28-06-2015', '28-07-2015',\n       '28-08-2015', '28-09-2015', '28-10-2015', '28-11-2015',\n       '28-12-2015', '29-01-2015', '29-03-2015', '29-04-2015',\n       '29-05-2015', '29-06-2015', '29-07-2015', '29-08-2015',\n       '29-09-2015', '29-10-2015', '29-11-2015', '29-12-2015',\n       '30-01-2015', '30-03-2015', '30-04-2015', '30-05-2015',\n       '30-06-2015', '30-07-2015', '30-08-2015', '30-09-2015',\n       '30-10-2015', '30-11-2015', '30-12-2015'], dtype=object)",
     "output_type": "error",
     "traceback": [
      "\u001b[1;31m---------------------------------------------------------------------------\u001b[0m",
      "\u001b[1;31mValueError\u001b[0m                                Traceback (most recent call last)",
      "File \u001b[1;32mc:\\ProgramData\\anaconda3\\Lib\\site-packages\\matplotlib\\axis.py:1769\u001b[0m, in \u001b[0;36mAxis.convert_units\u001b[1;34m(self, x)\u001b[0m\n\u001b[0;32m   1768\u001b[0m \u001b[38;5;28;01mtry\u001b[39;00m:\n\u001b[1;32m-> 1769\u001b[0m     ret \u001b[38;5;241m=\u001b[39m \u001b[38;5;28mself\u001b[39m\u001b[38;5;241m.\u001b[39mconverter\u001b[38;5;241m.\u001b[39mconvert(x, \u001b[38;5;28mself\u001b[39m\u001b[38;5;241m.\u001b[39munits, \u001b[38;5;28mself\u001b[39m)\n\u001b[0;32m   1770\u001b[0m \u001b[38;5;28;01mexcept\u001b[39;00m \u001b[38;5;167;01mException\u001b[39;00m \u001b[38;5;28;01mas\u001b[39;00m e:\n",
      "File \u001b[1;32mc:\\ProgramData\\anaconda3\\Lib\\site-packages\\matplotlib\\dates.py:1888\u001b[0m, in \u001b[0;36m_SwitchableDateConverter.convert\u001b[1;34m(self, *args, **kwargs)\u001b[0m\n\u001b[0;32m   1887\u001b[0m \u001b[38;5;28;01mdef\u001b[39;00m \u001b[38;5;21mconvert\u001b[39m(\u001b[38;5;28mself\u001b[39m, \u001b[38;5;241m*\u001b[39margs, \u001b[38;5;241m*\u001b[39m\u001b[38;5;241m*\u001b[39mkwargs):\n\u001b[1;32m-> 1888\u001b[0m     \u001b[38;5;28;01mreturn\u001b[39;00m \u001b[38;5;28mself\u001b[39m\u001b[38;5;241m.\u001b[39m_get_converter()\u001b[38;5;241m.\u001b[39mconvert(\u001b[38;5;241m*\u001b[39margs, \u001b[38;5;241m*\u001b[39m\u001b[38;5;241m*\u001b[39mkwargs)\n",
      "File \u001b[1;32mc:\\ProgramData\\anaconda3\\Lib\\site-packages\\matplotlib\\dates.py:1816\u001b[0m, in \u001b[0;36mDateConverter.convert\u001b[1;34m(value, unit, axis)\u001b[0m\n\u001b[0;32m   1810\u001b[0m \u001b[38;5;250m\u001b[39m\u001b[38;5;124;03m\"\"\"\u001b[39;00m\n\u001b[0;32m   1811\u001b[0m \u001b[38;5;124;03mIf *value* is not already a number or sequence of numbers, convert it\u001b[39;00m\n\u001b[0;32m   1812\u001b[0m \u001b[38;5;124;03mwith `date2num`.\u001b[39;00m\n\u001b[0;32m   1813\u001b[0m \n\u001b[0;32m   1814\u001b[0m \u001b[38;5;124;03mThe *unit* and *axis* arguments are not used.\u001b[39;00m\n\u001b[0;32m   1815\u001b[0m \u001b[38;5;124;03m\"\"\"\u001b[39;00m\n\u001b[1;32m-> 1816\u001b[0m \u001b[38;5;28;01mreturn\u001b[39;00m date2num(value)\n",
      "File \u001b[1;32mc:\\ProgramData\\anaconda3\\Lib\\site-packages\\matplotlib\\dates.py:461\u001b[0m, in \u001b[0;36mdate2num\u001b[1;34m(d)\u001b[0m\n\u001b[0;32m    460\u001b[0m         d \u001b[38;5;241m=\u001b[39m np\u001b[38;5;241m.\u001b[39masarray(d)\n\u001b[1;32m--> 461\u001b[0m     d \u001b[38;5;241m=\u001b[39m d\u001b[38;5;241m.\u001b[39mastype(\u001b[38;5;124m'\u001b[39m\u001b[38;5;124mdatetime64[us]\u001b[39m\u001b[38;5;124m'\u001b[39m)\n\u001b[0;32m    463\u001b[0m d \u001b[38;5;241m=\u001b[39m np\u001b[38;5;241m.\u001b[39mma\u001b[38;5;241m.\u001b[39mmasked_array(d, mask\u001b[38;5;241m=\u001b[39mmask) \u001b[38;5;28;01mif\u001b[39;00m masked \u001b[38;5;28;01melse\u001b[39;00m d\n",
      "\u001b[1;31mValueError\u001b[0m: Error parsing datetime string \"13-01-2015\" at position 8",
      "\nThe above exception was the direct cause of the following exception:\n",
      "\u001b[1;31mConversionError\u001b[0m                           Traceback (most recent call last)",
      "Cell \u001b[1;32mIn[72], line 49\u001b[0m\n\u001b[0;32m     42\u001b[0m \u001b[38;5;66;03m# Step 7: Plot results\u001b[39;00m\n\u001b[0;32m     43\u001b[0m \n\u001b[0;32m     44\u001b[0m \u001b[38;5;66;03m# Force all entries in 'ds' to datetime, coerce errors to NaT\u001b[39;00m\n\u001b[0;32m     48\u001b[0m plt\u001b[38;5;241m.\u001b[39mfigure(figsize\u001b[38;5;241m=\u001b[39m(\u001b[38;5;241m10\u001b[39m,\u001b[38;5;241m5\u001b[39m))\n\u001b[1;32m---> 49\u001b[0m plt\u001b[38;5;241m.\u001b[39mplot(train[\u001b[38;5;124m'\u001b[39m\u001b[38;5;124mds\u001b[39m\u001b[38;5;124m'\u001b[39m], train[\u001b[38;5;124m'\u001b[39m\u001b[38;5;124my\u001b[39m\u001b[38;5;124m'\u001b[39m], label\u001b[38;5;241m=\u001b[39m\u001b[38;5;124m'\u001b[39m\u001b[38;5;124mTrain\u001b[39m\u001b[38;5;124m'\u001b[39m)\n\u001b[0;32m     50\u001b[0m plt\u001b[38;5;241m.\u001b[39mplot(test\u001b[38;5;241m.\u001b[39mindex, test[\u001b[38;5;124m'\u001b[39m\u001b[38;5;124my\u001b[39m\u001b[38;5;124m'\u001b[39m], label\u001b[38;5;241m=\u001b[39m\u001b[38;5;124m'\u001b[39m\u001b[38;5;124mActual\u001b[39m\u001b[38;5;124m'\u001b[39m)\n\u001b[0;32m     51\u001b[0m plt\u001b[38;5;241m.\u001b[39mplot(predicted\u001b[38;5;241m.\u001b[39mindex, predicted[\u001b[38;5;124m'\u001b[39m\u001b[38;5;124myhat\u001b[39m\u001b[38;5;124m'\u001b[39m], label\u001b[38;5;241m=\u001b[39m\u001b[38;5;124m'\u001b[39m\u001b[38;5;124mForecast\u001b[39m\u001b[38;5;124m'\u001b[39m)\n",
      "File \u001b[1;32mc:\\ProgramData\\anaconda3\\Lib\\site-packages\\matplotlib\\pyplot.py:3590\u001b[0m, in \u001b[0;36mplot\u001b[1;34m(scalex, scaley, data, *args, **kwargs)\u001b[0m\n\u001b[0;32m   3582\u001b[0m \u001b[38;5;129m@_copy_docstring_and_deprecators\u001b[39m(Axes\u001b[38;5;241m.\u001b[39mplot)\n\u001b[0;32m   3583\u001b[0m \u001b[38;5;28;01mdef\u001b[39;00m \u001b[38;5;21mplot\u001b[39m(\n\u001b[0;32m   3584\u001b[0m     \u001b[38;5;241m*\u001b[39margs: \u001b[38;5;28mfloat\u001b[39m \u001b[38;5;241m|\u001b[39m ArrayLike \u001b[38;5;241m|\u001b[39m \u001b[38;5;28mstr\u001b[39m,\n\u001b[1;32m   (...)\u001b[0m\n\u001b[0;32m   3588\u001b[0m     \u001b[38;5;241m*\u001b[39m\u001b[38;5;241m*\u001b[39mkwargs,\n\u001b[0;32m   3589\u001b[0m ) \u001b[38;5;241m-\u001b[39m\u001b[38;5;241m>\u001b[39m \u001b[38;5;28mlist\u001b[39m[Line2D]:\n\u001b[1;32m-> 3590\u001b[0m     \u001b[38;5;28;01mreturn\u001b[39;00m gca()\u001b[38;5;241m.\u001b[39mplot(\n\u001b[0;32m   3591\u001b[0m         \u001b[38;5;241m*\u001b[39margs,\n\u001b[0;32m   3592\u001b[0m         scalex\u001b[38;5;241m=\u001b[39mscalex,\n\u001b[0;32m   3593\u001b[0m         scaley\u001b[38;5;241m=\u001b[39mscaley,\n\u001b[0;32m   3594\u001b[0m         \u001b[38;5;241m*\u001b[39m\u001b[38;5;241m*\u001b[39m({\u001b[38;5;124m\"\u001b[39m\u001b[38;5;124mdata\u001b[39m\u001b[38;5;124m\"\u001b[39m: data} \u001b[38;5;28;01mif\u001b[39;00m data \u001b[38;5;129;01mis\u001b[39;00m \u001b[38;5;129;01mnot\u001b[39;00m \u001b[38;5;28;01mNone\u001b[39;00m \u001b[38;5;28;01melse\u001b[39;00m {}),\n\u001b[0;32m   3595\u001b[0m         \u001b[38;5;241m*\u001b[39m\u001b[38;5;241m*\u001b[39mkwargs,\n\u001b[0;32m   3596\u001b[0m     )\n",
      "File \u001b[1;32mc:\\ProgramData\\anaconda3\\Lib\\site-packages\\matplotlib\\axes\\_axes.py:1726\u001b[0m, in \u001b[0;36mAxes.plot\u001b[1;34m(self, scalex, scaley, data, *args, **kwargs)\u001b[0m\n\u001b[0;32m   1724\u001b[0m lines \u001b[38;5;241m=\u001b[39m [\u001b[38;5;241m*\u001b[39m\u001b[38;5;28mself\u001b[39m\u001b[38;5;241m.\u001b[39m_get_lines(\u001b[38;5;28mself\u001b[39m, \u001b[38;5;241m*\u001b[39margs, data\u001b[38;5;241m=\u001b[39mdata, \u001b[38;5;241m*\u001b[39m\u001b[38;5;241m*\u001b[39mkwargs)]\n\u001b[0;32m   1725\u001b[0m \u001b[38;5;28;01mfor\u001b[39;00m line \u001b[38;5;129;01min\u001b[39;00m lines:\n\u001b[1;32m-> 1726\u001b[0m     \u001b[38;5;28mself\u001b[39m\u001b[38;5;241m.\u001b[39madd_line(line)\n\u001b[0;32m   1727\u001b[0m \u001b[38;5;28;01mif\u001b[39;00m scalex:\n\u001b[0;32m   1728\u001b[0m     \u001b[38;5;28mself\u001b[39m\u001b[38;5;241m.\u001b[39m_request_autoscale_view(\u001b[38;5;124m\"\u001b[39m\u001b[38;5;124mx\u001b[39m\u001b[38;5;124m\"\u001b[39m)\n",
      "File \u001b[1;32mc:\\ProgramData\\anaconda3\\Lib\\site-packages\\matplotlib\\axes\\_base.py:2309\u001b[0m, in \u001b[0;36m_AxesBase.add_line\u001b[1;34m(self, line)\u001b[0m\n\u001b[0;32m   2306\u001b[0m \u001b[38;5;28;01mif\u001b[39;00m line\u001b[38;5;241m.\u001b[39mget_clip_path() \u001b[38;5;129;01mis\u001b[39;00m \u001b[38;5;28;01mNone\u001b[39;00m:\n\u001b[0;32m   2307\u001b[0m     line\u001b[38;5;241m.\u001b[39mset_clip_path(\u001b[38;5;28mself\u001b[39m\u001b[38;5;241m.\u001b[39mpatch)\n\u001b[1;32m-> 2309\u001b[0m \u001b[38;5;28mself\u001b[39m\u001b[38;5;241m.\u001b[39m_update_line_limits(line)\n\u001b[0;32m   2310\u001b[0m \u001b[38;5;28;01mif\u001b[39;00m \u001b[38;5;129;01mnot\u001b[39;00m line\u001b[38;5;241m.\u001b[39mget_label():\n\u001b[0;32m   2311\u001b[0m     line\u001b[38;5;241m.\u001b[39mset_label(\u001b[38;5;124mf\u001b[39m\u001b[38;5;124m'\u001b[39m\u001b[38;5;124m_child\u001b[39m\u001b[38;5;132;01m{\u001b[39;00m\u001b[38;5;28mlen\u001b[39m(\u001b[38;5;28mself\u001b[39m\u001b[38;5;241m.\u001b[39m_children)\u001b[38;5;132;01m}\u001b[39;00m\u001b[38;5;124m'\u001b[39m)\n",
      "File \u001b[1;32mc:\\ProgramData\\anaconda3\\Lib\\site-packages\\matplotlib\\axes\\_base.py:2332\u001b[0m, in \u001b[0;36m_AxesBase._update_line_limits\u001b[1;34m(self, line)\u001b[0m\n\u001b[0;32m   2328\u001b[0m \u001b[38;5;28;01mdef\u001b[39;00m \u001b[38;5;21m_update_line_limits\u001b[39m(\u001b[38;5;28mself\u001b[39m, line):\n\u001b[0;32m   2329\u001b[0m \u001b[38;5;250m    \u001b[39m\u001b[38;5;124;03m\"\"\"\u001b[39;00m\n\u001b[0;32m   2330\u001b[0m \u001b[38;5;124;03m    Figures out the data limit of the given line, updating self.dataLim.\u001b[39;00m\n\u001b[0;32m   2331\u001b[0m \u001b[38;5;124;03m    \"\"\"\u001b[39;00m\n\u001b[1;32m-> 2332\u001b[0m     path \u001b[38;5;241m=\u001b[39m line\u001b[38;5;241m.\u001b[39mget_path()\n\u001b[0;32m   2333\u001b[0m     \u001b[38;5;28;01mif\u001b[39;00m path\u001b[38;5;241m.\u001b[39mvertices\u001b[38;5;241m.\u001b[39msize \u001b[38;5;241m==\u001b[39m \u001b[38;5;241m0\u001b[39m:\n\u001b[0;32m   2334\u001b[0m         \u001b[38;5;28;01mreturn\u001b[39;00m\n",
      "File \u001b[1;32mc:\\ProgramData\\anaconda3\\Lib\\site-packages\\matplotlib\\lines.py:1032\u001b[0m, in \u001b[0;36mLine2D.get_path\u001b[1;34m(self)\u001b[0m\n\u001b[0;32m   1030\u001b[0m \u001b[38;5;250m\u001b[39m\u001b[38;5;124;03m\"\"\"Return the `~matplotlib.path.Path` associated with this line.\"\"\"\u001b[39;00m\n\u001b[0;32m   1031\u001b[0m \u001b[38;5;28;01mif\u001b[39;00m \u001b[38;5;28mself\u001b[39m\u001b[38;5;241m.\u001b[39m_invalidy \u001b[38;5;129;01mor\u001b[39;00m \u001b[38;5;28mself\u001b[39m\u001b[38;5;241m.\u001b[39m_invalidx:\n\u001b[1;32m-> 1032\u001b[0m     \u001b[38;5;28mself\u001b[39m\u001b[38;5;241m.\u001b[39mrecache()\n\u001b[0;32m   1033\u001b[0m \u001b[38;5;28;01mreturn\u001b[39;00m \u001b[38;5;28mself\u001b[39m\u001b[38;5;241m.\u001b[39m_path\n",
      "File \u001b[1;32mc:\\ProgramData\\anaconda3\\Lib\\site-packages\\matplotlib\\lines.py:668\u001b[0m, in \u001b[0;36mLine2D.recache\u001b[1;34m(self, always)\u001b[0m\n\u001b[0;32m    666\u001b[0m \u001b[38;5;28;01mdef\u001b[39;00m \u001b[38;5;21mrecache\u001b[39m(\u001b[38;5;28mself\u001b[39m, always\u001b[38;5;241m=\u001b[39m\u001b[38;5;28;01mFalse\u001b[39;00m):\n\u001b[0;32m    667\u001b[0m     \u001b[38;5;28;01mif\u001b[39;00m always \u001b[38;5;129;01mor\u001b[39;00m \u001b[38;5;28mself\u001b[39m\u001b[38;5;241m.\u001b[39m_invalidx:\n\u001b[1;32m--> 668\u001b[0m         xconv \u001b[38;5;241m=\u001b[39m \u001b[38;5;28mself\u001b[39m\u001b[38;5;241m.\u001b[39mconvert_xunits(\u001b[38;5;28mself\u001b[39m\u001b[38;5;241m.\u001b[39m_xorig)\n\u001b[0;32m    669\u001b[0m         x \u001b[38;5;241m=\u001b[39m _to_unmasked_float_array(xconv)\u001b[38;5;241m.\u001b[39mravel()\n\u001b[0;32m    670\u001b[0m     \u001b[38;5;28;01melse\u001b[39;00m:\n",
      "File \u001b[1;32mc:\\ProgramData\\anaconda3\\Lib\\site-packages\\matplotlib\\artist.py:279\u001b[0m, in \u001b[0;36mArtist.convert_xunits\u001b[1;34m(self, x)\u001b[0m\n\u001b[0;32m    277\u001b[0m \u001b[38;5;28;01mif\u001b[39;00m ax \u001b[38;5;129;01mis\u001b[39;00m \u001b[38;5;28;01mNone\u001b[39;00m \u001b[38;5;129;01mor\u001b[39;00m ax\u001b[38;5;241m.\u001b[39mxaxis \u001b[38;5;129;01mis\u001b[39;00m \u001b[38;5;28;01mNone\u001b[39;00m:\n\u001b[0;32m    278\u001b[0m     \u001b[38;5;28;01mreturn\u001b[39;00m x\n\u001b[1;32m--> 279\u001b[0m \u001b[38;5;28;01mreturn\u001b[39;00m ax\u001b[38;5;241m.\u001b[39mxaxis\u001b[38;5;241m.\u001b[39mconvert_units(x)\n",
      "File \u001b[1;32mc:\\ProgramData\\anaconda3\\Lib\\site-packages\\matplotlib\\axis.py:1771\u001b[0m, in \u001b[0;36mAxis.convert_units\u001b[1;34m(self, x)\u001b[0m\n\u001b[0;32m   1769\u001b[0m     ret \u001b[38;5;241m=\u001b[39m \u001b[38;5;28mself\u001b[39m\u001b[38;5;241m.\u001b[39mconverter\u001b[38;5;241m.\u001b[39mconvert(x, \u001b[38;5;28mself\u001b[39m\u001b[38;5;241m.\u001b[39munits, \u001b[38;5;28mself\u001b[39m)\n\u001b[0;32m   1770\u001b[0m \u001b[38;5;28;01mexcept\u001b[39;00m \u001b[38;5;167;01mException\u001b[39;00m \u001b[38;5;28;01mas\u001b[39;00m e:\n\u001b[1;32m-> 1771\u001b[0m     \u001b[38;5;28;01mraise\u001b[39;00m munits\u001b[38;5;241m.\u001b[39mConversionError(\u001b[38;5;124m'\u001b[39m\u001b[38;5;124mFailed to convert value(s) to axis \u001b[39m\u001b[38;5;124m'\u001b[39m\n\u001b[0;32m   1772\u001b[0m                                  \u001b[38;5;124mf\u001b[39m\u001b[38;5;124m'\u001b[39m\u001b[38;5;124munits: \u001b[39m\u001b[38;5;132;01m{\u001b[39;00mx\u001b[38;5;132;01m!r}\u001b[39;00m\u001b[38;5;124m'\u001b[39m) \u001b[38;5;28;01mfrom\u001b[39;00m \u001b[38;5;21;01me\u001b[39;00m\n\u001b[0;32m   1773\u001b[0m \u001b[38;5;28;01mreturn\u001b[39;00m ret\n",
      "\u001b[1;31mConversionError\u001b[0m: Failed to convert value(s) to axis units: array([datetime.datetime(2015, 1, 1, 0, 0),\n       datetime.datetime(2015, 1, 2, 0, 0),\n       datetime.datetime(2015, 1, 3, 0, 0),\n       datetime.datetime(2015, 1, 4, 0, 0),\n       datetime.datetime(2015, 1, 5, 0, 0),\n       datetime.datetime(2015, 1, 6, 0, 0),\n       datetime.datetime(2015, 1, 7, 0, 0),\n       datetime.datetime(2015, 1, 8, 0, 0),\n       datetime.datetime(2015, 1, 9, 0, 0),\n       datetime.datetime(2015, 1, 10, 0, 0),\n       datetime.datetime(2015, 1, 11, 0, 0),\n       datetime.datetime(2015, 1, 12, 0, 0),\n       datetime.datetime(2015, 2, 1, 0, 0),\n       datetime.datetime(2015, 2, 2, 0, 0),\n       datetime.datetime(2015, 2, 3, 0, 0),\n       datetime.datetime(2015, 2, 4, 0, 0),\n       datetime.datetime(2015, 2, 5, 0, 0),\n       datetime.datetime(2015, 2, 6, 0, 0),\n       datetime.datetime(2015, 2, 7, 0, 0),\n       datetime.datetime(2015, 2, 8, 0, 0),\n       datetime.datetime(2015, 2, 9, 0, 0),\n       datetime.datetime(2015, 2, 10, 0, 0),\n       datetime.datetime(2015, 2, 11, 0, 0),\n       datetime.datetime(2015, 2, 12, 0, 0),\n       datetime.datetime(2015, 3, 1, 0, 0),\n       datetime.datetime(2015, 3, 2, 0, 0),\n       datetime.datetime(2015, 3, 3, 0, 0),\n       datetime.datetime(2015, 3, 4, 0, 0),\n       datetime.datetime(2015, 3, 5, 0, 0),\n       datetime.datetime(2015, 3, 6, 0, 0),\n       datetime.datetime(2015, 3, 7, 0, 0),\n       datetime.datetime(2015, 3, 8, 0, 0),\n       datetime.datetime(2015, 3, 9, 0, 0),\n       datetime.datetime(2015, 3, 10, 0, 0),\n       datetime.datetime(2015, 3, 11, 0, 0),\n       datetime.datetime(2015, 3, 12, 0, 0),\n       datetime.datetime(2015, 4, 1, 0, 0),\n       datetime.datetime(2015, 4, 2, 0, 0),\n       datetime.datetime(2015, 4, 3, 0, 0),\n       datetime.datetime(2015, 4, 4, 0, 0),\n       datetime.datetime(2015, 4, 5, 0, 0),\n       datetime.datetime(2015, 4, 6, 0, 0),\n       datetime.datetime(2015, 4, 7, 0, 0),\n       datetime.datetime(2015, 4, 8, 0, 0),\n       datetime.datetime(2015, 4, 9, 0, 0),\n       datetime.datetime(2015, 4, 10, 0, 0),\n       datetime.datetime(2015, 4, 11, 0, 0),\n       datetime.datetime(2015, 4, 12, 0, 0),\n       datetime.datetime(2015, 5, 1, 0, 0),\n       datetime.datetime(2015, 5, 2, 0, 0),\n       datetime.datetime(2015, 5, 3, 0, 0),\n       datetime.datetime(2015, 5, 4, 0, 0),\n       datetime.datetime(2015, 5, 5, 0, 0),\n       datetime.datetime(2015, 5, 6, 0, 0),\n       datetime.datetime(2015, 5, 7, 0, 0),\n       datetime.datetime(2015, 5, 8, 0, 0),\n       datetime.datetime(2015, 5, 9, 0, 0),\n       datetime.datetime(2015, 5, 11, 0, 0),\n       datetime.datetime(2015, 5, 12, 0, 0),\n       datetime.datetime(2015, 6, 1, 0, 0),\n       datetime.datetime(2015, 6, 2, 0, 0),\n       datetime.datetime(2015, 6, 3, 0, 0),\n       datetime.datetime(2015, 6, 4, 0, 0),\n       datetime.datetime(2015, 6, 5, 0, 0),\n       datetime.datetime(2015, 6, 6, 0, 0),\n       datetime.datetime(2015, 6, 7, 0, 0),\n       datetime.datetime(2015, 6, 8, 0, 0),\n       datetime.datetime(2015, 6, 9, 0, 0),\n       datetime.datetime(2015, 6, 10, 0, 0),\n       datetime.datetime(2015, 6, 11, 0, 0),\n       datetime.datetime(2015, 6, 12, 0, 0),\n       datetime.datetime(2015, 7, 1, 0, 0),\n       datetime.datetime(2015, 7, 2, 0, 0),\n       datetime.datetime(2015, 7, 3, 0, 0),\n       datetime.datetime(2015, 7, 4, 0, 0),\n       datetime.datetime(2015, 7, 5, 0, 0),\n       datetime.datetime(2015, 7, 6, 0, 0),\n       datetime.datetime(2015, 7, 7, 0, 0),\n       datetime.datetime(2015, 7, 8, 0, 0),\n       datetime.datetime(2015, 7, 9, 0, 0),\n       datetime.datetime(2015, 7, 10, 0, 0),\n       datetime.datetime(2015, 7, 11, 0, 0),\n       datetime.datetime(2015, 7, 12, 0, 0),\n       datetime.datetime(2015, 8, 1, 0, 0),\n       datetime.datetime(2015, 8, 2, 0, 0),\n       datetime.datetime(2015, 8, 3, 0, 0),\n       datetime.datetime(2015, 8, 4, 0, 0),\n       datetime.datetime(2015, 8, 5, 0, 0),\n       datetime.datetime(2015, 8, 6, 0, 0),\n       datetime.datetime(2015, 8, 7, 0, 0),\n       datetime.datetime(2015, 8, 8, 0, 0),\n       datetime.datetime(2015, 8, 9, 0, 0),\n       datetime.datetime(2015, 8, 10, 0, 0),\n       datetime.datetime(2015, 8, 11, 0, 0),\n       datetime.datetime(2015, 8, 12, 0, 0),\n       datetime.datetime(2015, 9, 1, 0, 0),\n       datetime.datetime(2015, 9, 2, 0, 0),\n       datetime.datetime(2015, 9, 3, 0, 0),\n       datetime.datetime(2015, 9, 4, 0, 0),\n       datetime.datetime(2015, 9, 5, 0, 0),\n       datetime.datetime(2015, 9, 6, 0, 0),\n       datetime.datetime(2015, 9, 7, 0, 0),\n       datetime.datetime(2015, 9, 8, 0, 0),\n       datetime.datetime(2015, 9, 9, 0, 0),\n       datetime.datetime(2015, 9, 10, 0, 0),\n       datetime.datetime(2015, 9, 11, 0, 0),\n       datetime.datetime(2015, 9, 12, 0, 0),\n       datetime.datetime(2015, 10, 1, 0, 0),\n       datetime.datetime(2015, 10, 2, 0, 0),\n       datetime.datetime(2015, 10, 3, 0, 0),\n       datetime.datetime(2015, 10, 4, 0, 0),\n       datetime.datetime(2015, 10, 5, 0, 0),\n       datetime.datetime(2015, 10, 6, 0, 0),\n       datetime.datetime(2015, 10, 7, 0, 0),\n       datetime.datetime(2015, 10, 8, 0, 0),\n       datetime.datetime(2015, 10, 9, 0, 0),\n       datetime.datetime(2015, 10, 10, 0, 0),\n       datetime.datetime(2015, 10, 11, 0, 0),\n       datetime.datetime(2015, 10, 12, 0, 0),\n       datetime.datetime(2015, 11, 1, 0, 0),\n       datetime.datetime(2015, 11, 2, 0, 0),\n       datetime.datetime(2015, 11, 3, 0, 0),\n       datetime.datetime(2015, 11, 4, 0, 0),\n       datetime.datetime(2015, 11, 5, 0, 0),\n       datetime.datetime(2015, 11, 6, 0, 0),\n       datetime.datetime(2015, 11, 7, 0, 0),\n       datetime.datetime(2015, 11, 8, 0, 0),\n       datetime.datetime(2015, 11, 9, 0, 0),\n       datetime.datetime(2015, 11, 10, 0, 0),\n       datetime.datetime(2015, 11, 11, 0, 0),\n       datetime.datetime(2015, 11, 12, 0, 0),\n       datetime.datetime(2015, 12, 1, 0, 0),\n       datetime.datetime(2015, 12, 2, 0, 0),\n       datetime.datetime(2015, 12, 3, 0, 0),\n       datetime.datetime(2015, 12, 4, 0, 0),\n       datetime.datetime(2015, 12, 5, 0, 0),\n       datetime.datetime(2015, 12, 6, 0, 0),\n       datetime.datetime(2015, 12, 7, 0, 0),\n       datetime.datetime(2015, 12, 8, 0, 0),\n       datetime.datetime(2015, 12, 9, 0, 0),\n       datetime.datetime(2015, 12, 11, 0, 0),\n       datetime.datetime(2015, 12, 12, 0, 0), '13-01-2015', '13-02-2015',\n       '13-03-2015', '13-04-2015', '13-05-2015', '13-06-2015',\n       '13-07-2015', '13-08-2015', '13-09-2015', '13-10-2015',\n       '13-11-2015', '13-12-2015', '14-01-2015', '14-02-2015',\n       '14-03-2015', '14-04-2015', '14-05-2015', '14-06-2015',\n       '14-07-2015', '14-08-2015', '14-09-2015', '14-10-2015',\n       '14-11-2015', '14-12-2015', '15-01-2015', '15-02-2015',\n       '15-03-2015', '15-04-2015', '15-05-2015', '15-06-2015',\n       '15-07-2015', '15-08-2015', '15-09-2015', '15-10-2015',\n       '15-11-2015', '15-12-2015', '16-01-2015', '16-02-2015',\n       '16-03-2015', '16-04-2015', '16-05-2015', '16-06-2015',\n       '16-07-2015', '16-08-2015', '16-09-2015', '16-10-2015',\n       '16-11-2015', '16-12-2015', '17-01-2015', '17-02-2015',\n       '17-03-2015', '17-04-2015', '17-05-2015', '17-06-2015',\n       '17-07-2015', '17-08-2015', '17-09-2015', '17-10-2015',\n       '17-11-2015', '17-12-2015', '18-01-2015', '18-02-2015',\n       '18-03-2015', '18-04-2015', '18-05-2015', '18-06-2015',\n       '18-07-2015', '18-08-2015', '18-09-2015', '18-10-2015',\n       '18-11-2015', '18-12-2015', '19-01-2015', '19-02-2015',\n       '19-03-2015', '19-04-2015', '19-05-2015', '19-06-2015',\n       '19-07-2015', '19-08-2015', '19-09-2015', '19-11-2015',\n       '19-12-2015', '20-01-2015', '20-02-2015', '20-03-2015',\n       '20-04-2015', '20-05-2015', '20-06-2015', '20-07-2015',\n       '20-08-2015', '20-09-2015', '20-10-2015', '20-11-2015',\n       '20-12-2015', '21-01-2015', '21-02-2015', '21-03-2015',\n       '21-04-2015', '21-05-2015', '21-06-2015', '21-07-2015',\n       '21-08-2015', '21-09-2015', '21-10-2015', '21-11-2015',\n       '21-12-2015', '22-01-2015', '22-02-2015', '22-03-2015',\n       '22-04-2015', '22-05-2015', '22-06-2015', '22-07-2015',\n       '22-08-2015', '22-09-2015', '22-10-2015', '22-11-2015',\n       '22-12-2015', '23-01-2015', '23-02-2015', '23-03-2015',\n       '23-04-2015', '23-05-2015', '23-06-2015', '23-07-2015',\n       '23-08-2015', '23-09-2015', '23-10-2015', '23-11-2015',\n       '23-12-2015', '24-01-2015', '24-02-2015', '24-03-2015',\n       '24-04-2015', '24-05-2015', '24-06-2015', '24-07-2015',\n       '24-08-2015', '24-10-2015', '24-11-2015', '24-12-2015',\n       '25-01-2015', '25-02-2015', '25-03-2015', '25-04-2015',\n       '25-05-2015', '25-06-2015', '25-07-2015', '25-08-2015',\n       '25-10-2015', '25-11-2015', '26-01-2015', '26-02-2015',\n       '26-03-2015', '26-04-2015', '26-05-2015', '26-06-2015',\n       '26-07-2015', '26-08-2015', '26-09-2015', '26-11-2015',\n       '26-12-2015', '27-01-2015', '27-02-2015', '27-03-2015',\n       '27-04-2015', '27-05-2015', '27-06-2015', '27-07-2015',\n       '27-08-2015', '27-09-2015', '27-10-2015', '27-11-2015',\n       '27-12-2015', '28-01-2015', '28-02-2015', '28-03-2015',\n       '28-04-2015', '28-05-2015', '28-06-2015', '28-07-2015',\n       '28-08-2015', '28-09-2015', '28-10-2015', '28-11-2015',\n       '28-12-2015', '29-01-2015', '29-03-2015', '29-04-2015',\n       '29-05-2015', '29-06-2015', '29-07-2015', '29-08-2015',\n       '29-09-2015', '29-10-2015', '29-11-2015', '29-12-2015',\n       '30-01-2015', '30-03-2015', '30-04-2015', '30-05-2015',\n       '30-06-2015', '30-07-2015', '30-08-2015', '30-09-2015',\n       '30-10-2015', '30-11-2015', '30-12-2015'], dtype=object)"
     ]
    },
    {
     "data": {
      "image/png": "[encoded data removed]",
      "text/plain": [
       "<Figure size 1000x500 with 1 Axes>"
      ]
     },
     "metadata": {},
     "output_type": "display_data"
    }
   ],
   "source": [
    "import pandas as pd\n",
    "import numpy as np\n",
    "import matplotlib.pyplot as plt\n",
    "from prophet import Prophet\n",
    "#df=pd.read_excel('cleaned_1.xlsx')\n",
    "\n",
    "# Step 1: Prepare data\n",
    "df_daily = df.groupby('order_date')['total_price'].sum().reset_index()\n",
    "df_daily.columns = ['ds', 'y']\n",
    "\n",
    "# # Step 2: Split into train and test\n",
    "# forecast_days = 7  # change to 30 for 1-month forecast\n",
    "# train = df_daily[:-forecast_days]\n",
    "# test = df_daily[-forecast_days:]\n",
    "# Step 2: Split into train and test\n",
    "forecast_days = 7  # or 30 for monthly\n",
    "train = df_daily[:-forecast_days]\n",
    "test = df_daily[-forecast_days:].copy()\n",
    "\n",
    "# Step 3: Fit the model\n",
    "model = Prophet()\n",
    "model.fit(train)\n",
    "\n",
    "# 🛠 Fix: ensure future includes correct number of days\n",
    "future = model.make_future_dataframe(periods=len(test), freq='D')\n",
    "forecast = model.predict(future)\n",
    "\n",
    "# Step 5: Align on dates for MAPE calculation\n",
    "forecast.set_index('ds', inplace=True)\n",
    "test.set_index('ds', inplace=True)\n",
    "predicted = forecast.reindex(test.index)\n",
    "\n",
    "\n",
    "\n",
    "# Step 6: Calculate MAPE\n",
    "def mape(y_true, y_pred):\n",
    "    return np.mean(np.abs((y_true - y_pred) / y_true)) * 100\n",
    "\n",
    "mape_value = mape(test['y'], predicted['yhat'])\n",
    "print(f'MAPE: {mape_value:.2f}%')\n",
    "\n",
    "# Step 7: Plot results\n",
    "\n",
    "# Force all entries in 'ds' to datetime, coerce errors to NaT\n",
    "\n",
    "\n",
    "\n",
    "plt.figure(figsize=(10,5))\n",
    "plt.plot(train['ds'], train['y'], label='Train')\n",
    "plt.plot(test.index, test['y'], label='Actual')\n",
    "plt.plot(predicted.index, predicted['yhat'], label='Forecast')\n",
    "plt.title('Sales Forecast vs Actual')\n",
    "plt.xlabel('Date')\n",
    "plt.ylabel('Sales')\n",
    "plt.legend()\n",
    "plt.tight_layout()\n",
    "plt.show()\n",
    "\n"
   ]
  },
  {
   "cell_type": "markdown",
   "id": "bb3cdd10",
   "metadata": {},
   "source": [
    "Reducing MAPE value "
   ]
  },
  {
   "cell_type": "code",
   "execution_count": 74,
   "id": "a7d3ac16",
   "metadata": {},
   "outputs": [
    {
     "name": "stderr",
     "output_type": "stream",
     "text": [
      "16:32:36 - cmdstanpy - INFO - Chain [1] start processing\n",
      "16:32:36 - cmdstanpy - INFO - Chain [1] done processing\n"
     ]
    },
    {
     "name": "stdout",
     "output_type": "stream",
     "text": [
      "MAPE: 46.58%\n"
     ]
    },
    {
     "ename": "ConversionError",
     "evalue": "Failed to convert value(s) to axis units: array([datetime.datetime(2015, 1, 1, 0, 0),\n       datetime.datetime(2015, 1, 2, 0, 0),\n       datetime.datetime(2015, 1, 3, 0, 0),\n       datetime.datetime(2015, 1, 4, 0, 0),\n       datetime.datetime(2015, 1, 5, 0, 0),\n       datetime.datetime(2015, 1, 6, 0, 0),\n       datetime.datetime(2015, 1, 7, 0, 0),\n       datetime.datetime(2015, 1, 8, 0, 0),\n       datetime.datetime(2015, 1, 9, 0, 0),\n       datetime.datetime(2015, 1, 10, 0, 0),\n       datetime.datetime(2015, 1, 11, 0, 0),\n       datetime.datetime(2015, 1, 12, 0, 0),\n       datetime.datetime(2015, 2, 1, 0, 0),\n       datetime.datetime(2015, 2, 2, 0, 0),\n       datetime.datetime(2015, 2, 3, 0, 0),\n       datetime.datetime(2015, 2, 4, 0, 0),\n       datetime.datetime(2015, 2, 5, 0, 0),\n       datetime.datetime(2015, 2, 6, 0, 0),\n       datetime.datetime(2015, 2, 7, 0, 0),\n       datetime.datetime(2015, 2, 8, 0, 0),\n       datetime.datetime(2015, 2, 9, 0, 0),\n       datetime.datetime(2015, 2, 10, 0, 0),\n       datetime.datetime(2015, 2, 11, 0, 0),\n       datetime.datetime(2015, 2, 12, 0, 0),\n       datetime.datetime(2015, 3, 1, 0, 0),\n       datetime.datetime(2015, 3, 2, 0, 0),\n       datetime.datetime(2015, 3, 3, 0, 0),\n       datetime.datetime(2015, 3, 4, 0, 0),\n       datetime.datetime(2015, 3, 5, 0, 0),\n       datetime.datetime(2015, 3, 6, 0, 0),\n       datetime.datetime(2015, 3, 7, 0, 0),\n       datetime.datetime(2015, 3, 8, 0, 0),\n       datetime.datetime(2015, 3, 9, 0, 0),\n       datetime.datetime(2015, 3, 10, 0, 0),\n       datetime.datetime(2015, 3, 11, 0, 0),\n       datetime.datetime(2015, 3, 12, 0, 0),\n       datetime.datetime(2015, 4, 1, 0, 0),\n       datetime.datetime(2015, 4, 2, 0, 0),\n       datetime.datetime(2015, 4, 3, 0, 0),\n       datetime.datetime(2015, 4, 4, 0, 0),\n       datetime.datetime(2015, 4, 5, 0, 0),\n       datetime.datetime(2015, 4, 6, 0, 0),\n       datetime.datetime(2015, 4, 7, 0, 0),\n       datetime.datetime(2015, 4, 8, 0, 0),\n       datetime.datetime(2015, 4, 9, 0, 0),\n       datetime.datetime(2015, 4, 10, 0, 0),\n       datetime.datetime(2015, 4, 11, 0, 0),\n       datetime.datetime(2015, 4, 12, 0, 0),\n       datetime.datetime(2015, 5, 1, 0, 0),\n       datetime.datetime(2015, 5, 2, 0, 0),\n       datetime.datetime(2015, 5, 3, 0, 0),\n       datetime.datetime(2015, 5, 4, 0, 0),\n       datetime.datetime(2015, 5, 5, 0, 0),\n       datetime.datetime(2015, 5, 6, 0, 0),\n       datetime.datetime(2015, 5, 7, 0, 0),\n       datetime.datetime(2015, 5, 8, 0, 0),\n       datetime.datetime(2015, 5, 9, 0, 0),\n       datetime.datetime(2015, 5, 11, 0, 0),\n       datetime.datetime(2015, 5, 12, 0, 0),\n       datetime.datetime(2015, 6, 1, 0, 0),\n       datetime.datetime(2015, 6, 2, 0, 0),\n       datetime.datetime(2015, 6, 3, 0, 0),\n       datetime.datetime(2015, 6, 4, 0, 0),\n       datetime.datetime(2015, 6, 5, 0, 0),\n       datetime.datetime(2015, 6, 6, 0, 0),\n       datetime.datetime(2015, 6, 7, 0, 0),\n       datetime.datetime(2015, 6, 8, 0, 0),\n       datetime.datetime(2015, 6, 9, 0, 0),\n       datetime.datetime(2015, 6, 10, 0, 0),\n       datetime.datetime(2015, 6, 11, 0, 0),\n       datetime.datetime(2015, 6, 12, 0, 0),\n       datetime.datetime(2015, 7, 1, 0, 0),\n       datetime.datetime(2015, 7, 2, 0, 0),\n       datetime.datetime(2015, 7, 3, 0, 0),\n       datetime.datetime(2015, 7, 4, 0, 0),\n       datetime.datetime(2015, 7, 5, 0, 0),\n       datetime.datetime(2015, 7, 6, 0, 0),\n       datetime.datetime(2015, 7, 7, 0, 0),\n       datetime.datetime(2015, 7, 8, 0, 0),\n       datetime.datetime(2015, 7, 9, 0, 0),\n       datetime.datetime(2015, 7, 10, 0, 0),\n       datetime.datetime(2015, 7, 11, 0, 0),\n       datetime.datetime(2015, 7, 12, 0, 0),\n       datetime.datetime(2015, 8, 1, 0, 0),\n       datetime.datetime(2015, 8, 2, 0, 0),\n       datetime.datetime(2015, 8, 3, 0, 0),\n       datetime.datetime(2015, 8, 4, 0, 0),\n       datetime.datetime(2015, 8, 5, 0, 0),\n       datetime.datetime(2015, 8, 6, 0, 0),\n       datetime.datetime(2015, 8, 7, 0, 0),\n       datetime.datetime(2015, 8, 8, 0, 0),\n       datetime.datetime(2015, 8, 9, 0, 0),\n       datetime.datetime(2015, 8, 10, 0, 0),\n       datetime.datetime(2015, 8, 11, 0, 0),\n       datetime.datetime(2015, 8, 12, 0, 0),\n       datetime.datetime(2015, 9, 1, 0, 0),\n       datetime.datetime(2015, 9, 2, 0, 0),\n       datetime.datetime(2015, 9, 3, 0, 0),\n       datetime.datetime(2015, 9, 4, 0, 0),\n       datetime.datetime(2015, 9, 5, 0, 0),\n       datetime.datetime(2015, 9, 6, 0, 0),\n       datetime.datetime(2015, 9, 7, 0, 0),\n       datetime.datetime(2015, 9, 8, 0, 0),\n       datetime.datetime(2015, 9, 9, 0, 0),\n       datetime.datetime(2015, 9, 10, 0, 0),\n       datetime.datetime(2015, 9, 11, 0, 0),\n       datetime.datetime(2015, 9, 12, 0, 0),\n       datetime.datetime(2015, 10, 1, 0, 0),\n       datetime.datetime(2015, 10, 2, 0, 0),\n       datetime.datetime(2015, 10, 3, 0, 0),\n       datetime.datetime(2015, 10, 4, 0, 0),\n       datetime.datetime(2015, 10, 5, 0, 0),\n       datetime.datetime(2015, 10, 6, 0, 0),\n       datetime.datetime(2015, 10, 7, 0, 0),\n       datetime.datetime(2015, 10, 8, 0, 0),\n       datetime.datetime(2015, 10, 9, 0, 0),\n       datetime.datetime(2015, 10, 10, 0, 0),\n       datetime.datetime(2015, 10, 11, 0, 0),\n       datetime.datetime(2015, 10, 12, 0, 0),\n       datetime.datetime(2015, 11, 1, 0, 0),\n       datetime.datetime(2015, 11, 2, 0, 0),\n       datetime.datetime(2015, 11, 3, 0, 0),\n       datetime.datetime(2015, 11, 4, 0, 0),\n       datetime.datetime(2015, 11, 5, 0, 0),\n       datetime.datetime(2015, 11, 6, 0, 0),\n       datetime.datetime(2015, 11, 7, 0, 0),\n       datetime.datetime(2015, 11, 8, 0, 0),\n       datetime.datetime(2015, 11, 9, 0, 0),\n       datetime.datetime(2015, 11, 10, 0, 0),\n       datetime.datetime(2015, 11, 11, 0, 0),\n       datetime.datetime(2015, 11, 12, 0, 0),\n       datetime.datetime(2015, 12, 1, 0, 0),\n       datetime.datetime(2015, 12, 2, 0, 0),\n       datetime.datetime(2015, 12, 3, 0, 0),\n       datetime.datetime(2015, 12, 4, 0, 0),\n       datetime.datetime(2015, 12, 5, 0, 0),\n       datetime.datetime(2015, 12, 6, 0, 0),\n       datetime.datetime(2015, 12, 7, 0, 0),\n       datetime.datetime(2015, 12, 8, 0, 0),\n       datetime.datetime(2015, 12, 9, 0, 0),\n       datetime.datetime(2015, 12, 11, 0, 0),\n       datetime.datetime(2015, 12, 12, 0, 0), '13-01-2015', '13-02-2015',\n       '13-03-2015', '13-04-2015', '13-05-2015', '13-06-2015',\n       '13-07-2015', '13-08-2015', '13-09-2015', '13-10-2015',\n       '13-11-2015', '13-12-2015', '14-01-2015', '14-02-2015',\n       '14-03-2015', '14-04-2015', '14-05-2015', '14-06-2015',\n       '14-07-2015', '14-08-2015', '14-09-2015', '14-10-2015',\n       '14-11-2015', '14-12-2015', '15-01-2015', '15-02-2015',\n       '15-03-2015', '15-04-2015', '15-05-2015', '15-06-2015',\n       '15-07-2015', '15-08-2015', '15-09-2015', '15-10-2015',\n       '15-11-2015', '15-12-2015', '16-01-2015', '16-02-2015',\n       '16-03-2015', '16-04-2015', '16-05-2015', '16-06-2015',\n       '16-07-2015', '16-08-2015', '16-09-2015', '16-10-2015',\n       '16-11-2015', '16-12-2015', '17-01-2015', '17-02-2015',\n       '17-03-2015', '17-04-2015', '17-05-2015', '17-06-2015',\n       '17-07-2015', '17-08-2015', '17-09-2015', '17-10-2015',\n       '17-11-2015', '17-12-2015', '18-01-2015', '18-02-2015',\n       '18-03-2015', '18-04-2015', '18-05-2015', '18-06-2015',\n       '18-07-2015', '18-08-2015', '18-09-2015', '18-10-2015',\n       '18-11-2015', '18-12-2015', '19-01-2015', '19-02-2015',\n       '19-03-2015', '19-04-2015', '19-05-2015', '19-06-2015',\n       '19-07-2015', '19-08-2015', '19-09-2015', '19-11-2015',\n       '19-12-2015', '20-01-2015', '20-02-2015', '20-03-2015',\n       '20-04-2015', '20-05-2015', '20-06-2015', '20-07-2015',\n       '20-08-2015', '20-09-2015', '20-10-2015', '20-11-2015',\n       '20-12-2015', '21-01-2015', '21-02-2015', '21-03-2015',\n       '21-04-2015', '21-05-2015', '21-06-2015', '21-07-2015',\n       '21-08-2015', '21-09-2015', '21-10-2015', '21-11-2015',\n       '21-12-2015', '22-01-2015', '22-02-2015', '22-03-2015',\n       '22-04-2015', '22-05-2015', '22-06-2015', '22-07-2015',\n       '22-08-2015', '22-09-2015', '22-10-2015', '22-11-2015',\n       '22-12-2015', '23-01-2015', '23-02-2015', '23-03-2015',\n       '23-04-2015', '23-05-2015', '23-06-2015', '23-07-2015',\n       '23-08-2015', '23-09-2015', '23-10-2015', '23-11-2015',\n       '23-12-2015', '24-01-2015', '24-02-2015', '24-03-2015',\n       '24-04-2015', '24-05-2015', '24-06-2015', '24-07-2015',\n       '24-08-2015', '24-10-2015', '24-11-2015', '24-12-2015',\n       '25-01-2015', '25-02-2015', '25-03-2015', '25-04-2015',\n       '25-05-2015', '25-06-2015', '25-07-2015', '25-08-2015',\n       '25-10-2015', '25-11-2015', '26-01-2015', '26-02-2015',\n       '26-03-2015', '26-04-2015', '26-05-2015', '26-06-2015',\n       '26-07-2015', '26-08-2015', '26-09-2015', '26-11-2015',\n       '26-12-2015', '27-01-2015', '27-02-2015', '27-03-2015',\n       '27-04-2015', '27-05-2015', '27-06-2015', '27-07-2015',\n       '27-08-2015', '27-09-2015', '27-10-2015', '27-11-2015',\n       '27-12-2015', '28-01-2015', '28-02-2015', '28-03-2015',\n       '28-04-2015', '28-05-2015', '28-06-2015', '28-07-2015',\n       '28-08-2015', '28-09-2015', '28-10-2015', '28-11-2015'],\n      dtype=object)",
     "output_type": "error",
     "traceback": [
      "\u001b[1;31m---------------------------------------------------------------------------\u001b[0m",
      "\u001b[1;31mValueError\u001b[0m                                Traceback (most recent call last)",
      "File \u001b[1;32mc:\\ProgramData\\anaconda3\\Lib\\site-packages\\matplotlib\\axis.py:1769\u001b[0m, in \u001b[0;36mAxis.convert_units\u001b[1;34m(self, x)\u001b[0m\n\u001b[0;32m   1768\u001b[0m \u001b[38;5;28;01mtry\u001b[39;00m:\n\u001b[1;32m-> 1769\u001b[0m     ret \u001b[38;5;241m=\u001b[39m \u001b[38;5;28mself\u001b[39m\u001b[38;5;241m.\u001b[39mconverter\u001b[38;5;241m.\u001b[39mconvert(x, \u001b[38;5;28mself\u001b[39m\u001b[38;5;241m.\u001b[39munits, \u001b[38;5;28mself\u001b[39m)\n\u001b[0;32m   1770\u001b[0m \u001b[38;5;28;01mexcept\u001b[39;00m \u001b[38;5;167;01mException\u001b[39;00m \u001b[38;5;28;01mas\u001b[39;00m e:\n",
      "File \u001b[1;32mc:\\ProgramData\\anaconda3\\Lib\\site-packages\\matplotlib\\dates.py:1888\u001b[0m, in \u001b[0;36m_SwitchableDateConverter.convert\u001b[1;34m(self, *args, **kwargs)\u001b[0m\n\u001b[0;32m   1887\u001b[0m \u001b[38;5;28;01mdef\u001b[39;00m \u001b[38;5;21mconvert\u001b[39m(\u001b[38;5;28mself\u001b[39m, \u001b[38;5;241m*\u001b[39margs, \u001b[38;5;241m*\u001b[39m\u001b[38;5;241m*\u001b[39mkwargs):\n\u001b[1;32m-> 1888\u001b[0m     \u001b[38;5;28;01mreturn\u001b[39;00m \u001b[38;5;28mself\u001b[39m\u001b[38;5;241m.\u001b[39m_get_converter()\u001b[38;5;241m.\u001b[39mconvert(\u001b[38;5;241m*\u001b[39margs, \u001b[38;5;241m*\u001b[39m\u001b[38;5;241m*\u001b[39mkwargs)\n",
      "File \u001b[1;32mc:\\ProgramData\\anaconda3\\Lib\\site-packages\\matplotlib\\dates.py:1816\u001b[0m, in \u001b[0;36mDateConverter.convert\u001b[1;34m(value, unit, axis)\u001b[0m\n\u001b[0;32m   1810\u001b[0m \u001b[38;5;250m\u001b[39m\u001b[38;5;124;03m\"\"\"\u001b[39;00m\n\u001b[0;32m   1811\u001b[0m \u001b[38;5;124;03mIf *value* is not already a number or sequence of numbers, convert it\u001b[39;00m\n\u001b[0;32m   1812\u001b[0m \u001b[38;5;124;03mwith `date2num`.\u001b[39;00m\n\u001b[0;32m   1813\u001b[0m \n\u001b[0;32m   1814\u001b[0m \u001b[38;5;124;03mThe *unit* and *axis* arguments are not used.\u001b[39;00m\n\u001b[0;32m   1815\u001b[0m \u001b[38;5;124;03m\"\"\"\u001b[39;00m\n\u001b[1;32m-> 1816\u001b[0m \u001b[38;5;28;01mreturn\u001b[39;00m date2num(value)\n",
      "File \u001b[1;32mc:\\ProgramData\\anaconda3\\Lib\\site-packages\\matplotlib\\dates.py:461\u001b[0m, in \u001b[0;36mdate2num\u001b[1;34m(d)\u001b[0m\n\u001b[0;32m    460\u001b[0m         d \u001b[38;5;241m=\u001b[39m np\u001b[38;5;241m.\u001b[39masarray(d)\n\u001b[1;32m--> 461\u001b[0m     d \u001b[38;5;241m=\u001b[39m d\u001b[38;5;241m.\u001b[39mastype(\u001b[38;5;124m'\u001b[39m\u001b[38;5;124mdatetime64[us]\u001b[39m\u001b[38;5;124m'\u001b[39m)\n\u001b[0;32m    463\u001b[0m d \u001b[38;5;241m=\u001b[39m np\u001b[38;5;241m.\u001b[39mma\u001b[38;5;241m.\u001b[39mmasked_array(d, mask\u001b[38;5;241m=\u001b[39mmask) \u001b[38;5;28;01mif\u001b[39;00m masked \u001b[38;5;28;01melse\u001b[39;00m d\n",
      "\u001b[1;31mValueError\u001b[0m: Error parsing datetime string \"13-01-2015\" at position 8",
      "\nThe above exception was the direct cause of the following exception:\n",
      "\u001b[1;31mConversionError\u001b[0m                           Traceback (most recent call last)",
      "Cell \u001b[1;32mIn[74], line 52\u001b[0m\n\u001b[0;32m     50\u001b[0m \u001b[38;5;28;01mimport\u001b[39;00m \u001b[38;5;21;01mmatplotlib\u001b[39;00m\u001b[38;5;21;01m.\u001b[39;00m\u001b[38;5;21;01mpyplot\u001b[39;00m \u001b[38;5;28;01mas\u001b[39;00m \u001b[38;5;21;01mplt\u001b[39;00m\n\u001b[0;32m     51\u001b[0m plt\u001b[38;5;241m.\u001b[39mfigure(figsize\u001b[38;5;241m=\u001b[39m(\u001b[38;5;241m10\u001b[39m,\u001b[38;5;241m5\u001b[39m))\n\u001b[1;32m---> 52\u001b[0m plt\u001b[38;5;241m.\u001b[39mplot(train[\u001b[38;5;124m'\u001b[39m\u001b[38;5;124mds\u001b[39m\u001b[38;5;124m'\u001b[39m], train[\u001b[38;5;124m'\u001b[39m\u001b[38;5;124my\u001b[39m\u001b[38;5;124m'\u001b[39m], label\u001b[38;5;241m=\u001b[39m\u001b[38;5;124m'\u001b[39m\u001b[38;5;124mTrain\u001b[39m\u001b[38;5;124m'\u001b[39m)\n\u001b[0;32m     53\u001b[0m plt\u001b[38;5;241m.\u001b[39mplot(test\u001b[38;5;241m.\u001b[39mindex, test[\u001b[38;5;124m'\u001b[39m\u001b[38;5;124my\u001b[39m\u001b[38;5;124m'\u001b[39m], label\u001b[38;5;241m=\u001b[39m\u001b[38;5;124m'\u001b[39m\u001b[38;5;124mActual\u001b[39m\u001b[38;5;124m'\u001b[39m)\n\u001b[0;32m     54\u001b[0m plt\u001b[38;5;241m.\u001b[39mplot(predicted\u001b[38;5;241m.\u001b[39mindex, predicted[\u001b[38;5;124m'\u001b[39m\u001b[38;5;124myhat\u001b[39m\u001b[38;5;124m'\u001b[39m], label\u001b[38;5;241m=\u001b[39m\u001b[38;5;124m'\u001b[39m\u001b[38;5;124mForecast\u001b[39m\u001b[38;5;124m'\u001b[39m)\n",
      "File \u001b[1;32mc:\\ProgramData\\anaconda3\\Lib\\site-packages\\matplotlib\\pyplot.py:3590\u001b[0m, in \u001b[0;36mplot\u001b[1;34m(scalex, scaley, data, *args, **kwargs)\u001b[0m\n\u001b[0;32m   3582\u001b[0m \u001b[38;5;129m@_copy_docstring_and_deprecators\u001b[39m(Axes\u001b[38;5;241m.\u001b[39mplot)\n\u001b[0;32m   3583\u001b[0m \u001b[38;5;28;01mdef\u001b[39;00m \u001b[38;5;21mplot\u001b[39m(\n\u001b[0;32m   3584\u001b[0m     \u001b[38;5;241m*\u001b[39margs: \u001b[38;5;28mfloat\u001b[39m \u001b[38;5;241m|\u001b[39m ArrayLike \u001b[38;5;241m|\u001b[39m \u001b[38;5;28mstr\u001b[39m,\n\u001b[1;32m   (...)\u001b[0m\n\u001b[0;32m   3588\u001b[0m     \u001b[38;5;241m*\u001b[39m\u001b[38;5;241m*\u001b[39mkwargs,\n\u001b[0;32m   3589\u001b[0m ) \u001b[38;5;241m-\u001b[39m\u001b[38;5;241m>\u001b[39m \u001b[38;5;28mlist\u001b[39m[Line2D]:\n\u001b[1;32m-> 3590\u001b[0m     \u001b[38;5;28;01mreturn\u001b[39;00m gca()\u001b[38;5;241m.\u001b[39mplot(\n\u001b[0;32m   3591\u001b[0m         \u001b[38;5;241m*\u001b[39margs,\n\u001b[0;32m   3592\u001b[0m         scalex\u001b[38;5;241m=\u001b[39mscalex,\n\u001b[0;32m   3593\u001b[0m         scaley\u001b[38;5;241m=\u001b[39mscaley,\n\u001b[0;32m   3594\u001b[0m         \u001b[38;5;241m*\u001b[39m\u001b[38;5;241m*\u001b[39m({\u001b[38;5;124m\"\u001b[39m\u001b[38;5;124mdata\u001b[39m\u001b[38;5;124m\"\u001b[39m: data} \u001b[38;5;28;01mif\u001b[39;00m data \u001b[38;5;129;01mis\u001b[39;00m \u001b[38;5;129;01mnot\u001b[39;00m \u001b[38;5;28;01mNone\u001b[39;00m \u001b[38;5;28;01melse\u001b[39;00m {}),\n\u001b[0;32m   3595\u001b[0m         \u001b[38;5;241m*\u001b[39m\u001b[38;5;241m*\u001b[39mkwargs,\n\u001b[0;32m   3596\u001b[0m     )\n",
      "File \u001b[1;32mc:\\ProgramData\\anaconda3\\Lib\\site-packages\\matplotlib\\axes\\_axes.py:1726\u001b[0m, in \u001b[0;36mAxes.plot\u001b[1;34m(self, scalex, scaley, data, *args, **kwargs)\u001b[0m\n\u001b[0;32m   1724\u001b[0m lines \u001b[38;5;241m=\u001b[39m [\u001b[38;5;241m*\u001b[39m\u001b[38;5;28mself\u001b[39m\u001b[38;5;241m.\u001b[39m_get_lines(\u001b[38;5;28mself\u001b[39m, \u001b[38;5;241m*\u001b[39margs, data\u001b[38;5;241m=\u001b[39mdata, \u001b[38;5;241m*\u001b[39m\u001b[38;5;241m*\u001b[39mkwargs)]\n\u001b[0;32m   1725\u001b[0m \u001b[38;5;28;01mfor\u001b[39;00m line \u001b[38;5;129;01min\u001b[39;00m lines:\n\u001b[1;32m-> 1726\u001b[0m     \u001b[38;5;28mself\u001b[39m\u001b[38;5;241m.\u001b[39madd_line(line)\n\u001b[0;32m   1727\u001b[0m \u001b[38;5;28;01mif\u001b[39;00m scalex:\n\u001b[0;32m   1728\u001b[0m     \u001b[38;5;28mself\u001b[39m\u001b[38;5;241m.\u001b[39m_request_autoscale_view(\u001b[38;5;124m\"\u001b[39m\u001b[38;5;124mx\u001b[39m\u001b[38;5;124m\"\u001b[39m)\n",
      "File \u001b[1;32mc:\\ProgramData\\anaconda3\\Lib\\site-packages\\matplotlib\\axes\\_base.py:2309\u001b[0m, in \u001b[0;36m_AxesBase.add_line\u001b[1;34m(self, line)\u001b[0m\n\u001b[0;32m   2306\u001b[0m \u001b[38;5;28;01mif\u001b[39;00m line\u001b[38;5;241m.\u001b[39mget_clip_path() \u001b[38;5;129;01mis\u001b[39;00m \u001b[38;5;28;01mNone\u001b[39;00m:\n\u001b[0;32m   2307\u001b[0m     line\u001b[38;5;241m.\u001b[39mset_clip_path(\u001b[38;5;28mself\u001b[39m\u001b[38;5;241m.\u001b[39mpatch)\n\u001b[1;32m-> 2309\u001b[0m \u001b[38;5;28mself\u001b[39m\u001b[38;5;241m.\u001b[39m_update_line_limits(line)\n\u001b[0;32m   2310\u001b[0m \u001b[38;5;28;01mif\u001b[39;00m \u001b[38;5;129;01mnot\u001b[39;00m line\u001b[38;5;241m.\u001b[39mget_label():\n\u001b[0;32m   2311\u001b[0m     line\u001b[38;5;241m.\u001b[39mset_label(\u001b[38;5;124mf\u001b[39m\u001b[38;5;124m'\u001b[39m\u001b[38;5;124m_child\u001b[39m\u001b[38;5;132;01m{\u001b[39;00m\u001b[38;5;28mlen\u001b[39m(\u001b[38;5;28mself\u001b[39m\u001b[38;5;241m.\u001b[39m_children)\u001b[38;5;132;01m}\u001b[39;00m\u001b[38;5;124m'\u001b[39m)\n",
      "File \u001b[1;32mc:\\ProgramData\\anaconda3\\Lib\\site-packages\\matplotlib\\axes\\_base.py:2332\u001b[0m, in \u001b[0;36m_AxesBase._update_line_limits\u001b[1;34m(self, line)\u001b[0m\n\u001b[0;32m   2328\u001b[0m \u001b[38;5;28;01mdef\u001b[39;00m \u001b[38;5;21m_update_line_limits\u001b[39m(\u001b[38;5;28mself\u001b[39m, line):\n\u001b[0;32m   2329\u001b[0m \u001b[38;5;250m    \u001b[39m\u001b[38;5;124;03m\"\"\"\u001b[39;00m\n\u001b[0;32m   2330\u001b[0m \u001b[38;5;124;03m    Figures out the data limit of the given line, updating self.dataLim.\u001b[39;00m\n\u001b[0;32m   2331\u001b[0m \u001b[38;5;124;03m    \"\"\"\u001b[39;00m\n\u001b[1;32m-> 2332\u001b[0m     path \u001b[38;5;241m=\u001b[39m line\u001b[38;5;241m.\u001b[39mget_path()\n\u001b[0;32m   2333\u001b[0m     \u001b[38;5;28;01mif\u001b[39;00m path\u001b[38;5;241m.\u001b[39mvertices\u001b[38;5;241m.\u001b[39msize \u001b[38;5;241m==\u001b[39m \u001b[38;5;241m0\u001b[39m:\n\u001b[0;32m   2334\u001b[0m         \u001b[38;5;28;01mreturn\u001b[39;00m\n",
      "File \u001b[1;32mc:\\ProgramData\\anaconda3\\Lib\\site-packages\\matplotlib\\lines.py:1032\u001b[0m, in \u001b[0;36mLine2D.get_path\u001b[1;34m(self)\u001b[0m\n\u001b[0;32m   1030\u001b[0m \u001b[38;5;250m\u001b[39m\u001b[38;5;124;03m\"\"\"Return the `~matplotlib.path.Path` associated with this line.\"\"\"\u001b[39;00m\n\u001b[0;32m   1031\u001b[0m \u001b[38;5;28;01mif\u001b[39;00m \u001b[38;5;28mself\u001b[39m\u001b[38;5;241m.\u001b[39m_invalidy \u001b[38;5;129;01mor\u001b[39;00m \u001b[38;5;28mself\u001b[39m\u001b[38;5;241m.\u001b[39m_invalidx:\n\u001b[1;32m-> 1032\u001b[0m     \u001b[38;5;28mself\u001b[39m\u001b[38;5;241m.\u001b[39mrecache()\n\u001b[0;32m   1033\u001b[0m \u001b[38;5;28;01mreturn\u001b[39;00m \u001b[38;5;28mself\u001b[39m\u001b[38;5;241m.\u001b[39m_path\n",
      "File \u001b[1;32mc:\\ProgramData\\anaconda3\\Lib\\site-packages\\matplotlib\\lines.py:668\u001b[0m, in \u001b[0;36mLine2D.recache\u001b[1;34m(self, always)\u001b[0m\n\u001b[0;32m    666\u001b[0m \u001b[38;5;28;01mdef\u001b[39;00m \u001b[38;5;21mrecache\u001b[39m(\u001b[38;5;28mself\u001b[39m, always\u001b[38;5;241m=\u001b[39m\u001b[38;5;28;01mFalse\u001b[39;00m):\n\u001b[0;32m    667\u001b[0m     \u001b[38;5;28;01mif\u001b[39;00m always \u001b[38;5;129;01mor\u001b[39;00m \u001b[38;5;28mself\u001b[39m\u001b[38;5;241m.\u001b[39m_invalidx:\n\u001b[1;32m--> 668\u001b[0m         xconv \u001b[38;5;241m=\u001b[39m \u001b[38;5;28mself\u001b[39m\u001b[38;5;241m.\u001b[39mconvert_xunits(\u001b[38;5;28mself\u001b[39m\u001b[38;5;241m.\u001b[39m_xorig)\n\u001b[0;32m    669\u001b[0m         x \u001b[38;5;241m=\u001b[39m _to_unmasked_float_array(xconv)\u001b[38;5;241m.\u001b[39mravel()\n\u001b[0;32m    670\u001b[0m     \u001b[38;5;28;01melse\u001b[39;00m:\n",
      "File \u001b[1;32mc:\\ProgramData\\anaconda3\\Lib\\site-packages\\matplotlib\\artist.py:279\u001b[0m, in \u001b[0;36mArtist.convert_xunits\u001b[1;34m(self, x)\u001b[0m\n\u001b[0;32m    277\u001b[0m \u001b[38;5;28;01mif\u001b[39;00m ax \u001b[38;5;129;01mis\u001b[39;00m \u001b[38;5;28;01mNone\u001b[39;00m \u001b[38;5;129;01mor\u001b[39;00m ax\u001b[38;5;241m.\u001b[39mxaxis \u001b[38;5;129;01mis\u001b[39;00m \u001b[38;5;28;01mNone\u001b[39;00m:\n\u001b[0;32m    278\u001b[0m     \u001b[38;5;28;01mreturn\u001b[39;00m x\n\u001b[1;32m--> 279\u001b[0m \u001b[38;5;28;01mreturn\u001b[39;00m ax\u001b[38;5;241m.\u001b[39mxaxis\u001b[38;5;241m.\u001b[39mconvert_units(x)\n",
      "File \u001b[1;32mc:\\ProgramData\\anaconda3\\Lib\\site-packages\\matplotlib\\axis.py:1771\u001b[0m, in \u001b[0;36mAxis.convert_units\u001b[1;34m(self, x)\u001b[0m\n\u001b[0;32m   1769\u001b[0m     ret \u001b[38;5;241m=\u001b[39m \u001b[38;5;28mself\u001b[39m\u001b[38;5;241m.\u001b[39mconverter\u001b[38;5;241m.\u001b[39mconvert(x, \u001b[38;5;28mself\u001b[39m\u001b[38;5;241m.\u001b[39munits, \u001b[38;5;28mself\u001b[39m)\n\u001b[0;32m   1770\u001b[0m \u001b[38;5;28;01mexcept\u001b[39;00m \u001b[38;5;167;01mException\u001b[39;00m \u001b[38;5;28;01mas\u001b[39;00m e:\n\u001b[1;32m-> 1771\u001b[0m     \u001b[38;5;28;01mraise\u001b[39;00m munits\u001b[38;5;241m.\u001b[39mConversionError(\u001b[38;5;124m'\u001b[39m\u001b[38;5;124mFailed to convert value(s) to axis \u001b[39m\u001b[38;5;124m'\u001b[39m\n\u001b[0;32m   1772\u001b[0m                                  \u001b[38;5;124mf\u001b[39m\u001b[38;5;124m'\u001b[39m\u001b[38;5;124munits: \u001b[39m\u001b[38;5;132;01m{\u001b[39;00mx\u001b[38;5;132;01m!r}\u001b[39;00m\u001b[38;5;124m'\u001b[39m) \u001b[38;5;28;01mfrom\u001b[39;00m \u001b[38;5;21;01me\u001b[39;00m\n\u001b[0;32m   1773\u001b[0m \u001b[38;5;28;01mreturn\u001b[39;00m ret\n",
      "\u001b[1;31mConversionError\u001b[0m: Failed to convert value(s) to axis units: array([datetime.datetime(2015, 1, 1, 0, 0),\n       datetime.datetime(2015, 1, 2, 0, 0),\n       datetime.datetime(2015, 1, 3, 0, 0),\n       datetime.datetime(2015, 1, 4, 0, 0),\n       datetime.datetime(2015, 1, 5, 0, 0),\n       datetime.datetime(2015, 1, 6, 0, 0),\n       datetime.datetime(2015, 1, 7, 0, 0),\n       datetime.datetime(2015, 1, 8, 0, 0),\n       datetime.datetime(2015, 1, 9, 0, 0),\n       datetime.datetime(2015, 1, 10, 0, 0),\n       datetime.datetime(2015, 1, 11, 0, 0),\n       datetime.datetime(2015, 1, 12, 0, 0),\n       datetime.datetime(2015, 2, 1, 0, 0),\n       datetime.datetime(2015, 2, 2, 0, 0),\n       datetime.datetime(2015, 2, 3, 0, 0),\n       datetime.datetime(2015, 2, 4, 0, 0),\n       datetime.datetime(2015, 2, 5, 0, 0),\n       datetime.datetime(2015, 2, 6, 0, 0),\n       datetime.datetime(2015, 2, 7, 0, 0),\n       datetime.datetime(2015, 2, 8, 0, 0),\n       datetime.datetime(2015, 2, 9, 0, 0),\n       datetime.datetime(2015, 2, 10, 0, 0),\n       datetime.datetime(2015, 2, 11, 0, 0),\n       datetime.datetime(2015, 2, 12, 0, 0),\n       datetime.datetime(2015, 3, 1, 0, 0),\n       datetime.datetime(2015, 3, 2, 0, 0),\n       datetime.datetime(2015, 3, 3, 0, 0),\n       datetime.datetime(2015, 3, 4, 0, 0),\n       datetime.datetime(2015, 3, 5, 0, 0),\n       datetime.datetime(2015, 3, 6, 0, 0),\n       datetime.datetime(2015, 3, 7, 0, 0),\n       datetime.datetime(2015, 3, 8, 0, 0),\n       datetime.datetime(2015, 3, 9, 0, 0),\n       datetime.datetime(2015, 3, 10, 0, 0),\n       datetime.datetime(2015, 3, 11, 0, 0),\n       datetime.datetime(2015, 3, 12, 0, 0),\n       datetime.datetime(2015, 4, 1, 0, 0),\n       datetime.datetime(2015, 4, 2, 0, 0),\n       datetime.datetime(2015, 4, 3, 0, 0),\n       datetime.datetime(2015, 4, 4, 0, 0),\n       datetime.datetime(2015, 4, 5, 0, 0),\n       datetime.datetime(2015, 4, 6, 0, 0),\n       datetime.datetime(2015, 4, 7, 0, 0),\n       datetime.datetime(2015, 4, 8, 0, 0),\n       datetime.datetime(2015, 4, 9, 0, 0),\n       datetime.datetime(2015, 4, 10, 0, 0),\n       datetime.datetime(2015, 4, 11, 0, 0),\n       datetime.datetime(2015, 4, 12, 0, 0),\n       datetime.datetime(2015, 5, 1, 0, 0),\n       datetime.datetime(2015, 5, 2, 0, 0),\n       datetime.datetime(2015, 5, 3, 0, 0),\n       datetime.datetime(2015, 5, 4, 0, 0),\n       datetime.datetime(2015, 5, 5, 0, 0),\n       datetime.datetime(2015, 5, 6, 0, 0),\n       datetime.datetime(2015, 5, 7, 0, 0),\n       datetime.datetime(2015, 5, 8, 0, 0),\n       datetime.datetime(2015, 5, 9, 0, 0),\n       datetime.datetime(2015, 5, 11, 0, 0),\n       datetime.datetime(2015, 5, 12, 0, 0),\n       datetime.datetime(2015, 6, 1, 0, 0),\n       datetime.datetime(2015, 6, 2, 0, 0),\n       datetime.datetime(2015, 6, 3, 0, 0),\n       datetime.datetime(2015, 6, 4, 0, 0),\n       datetime.datetime(2015, 6, 5, 0, 0),\n       datetime.datetime(2015, 6, 6, 0, 0),\n       datetime.datetime(2015, 6, 7, 0, 0),\n       datetime.datetime(2015, 6, 8, 0, 0),\n       datetime.datetime(2015, 6, 9, 0, 0),\n       datetime.datetime(2015, 6, 10, 0, 0),\n       datetime.datetime(2015, 6, 11, 0, 0),\n       datetime.datetime(2015, 6, 12, 0, 0),\n       datetime.datetime(2015, 7, 1, 0, 0),\n       datetime.datetime(2015, 7, 2, 0, 0),\n       datetime.datetime(2015, 7, 3, 0, 0),\n       datetime.datetime(2015, 7, 4, 0, 0),\n       datetime.datetime(2015, 7, 5, 0, 0),\n       datetime.datetime(2015, 7, 6, 0, 0),\n       datetime.datetime(2015, 7, 7, 0, 0),\n       datetime.datetime(2015, 7, 8, 0, 0),\n       datetime.datetime(2015, 7, 9, 0, 0),\n       datetime.datetime(2015, 7, 10, 0, 0),\n       datetime.datetime(2015, 7, 11, 0, 0),\n       datetime.datetime(2015, 7, 12, 0, 0),\n       datetime.datetime(2015, 8, 1, 0, 0),\n       datetime.datetime(2015, 8, 2, 0, 0),\n       datetime.datetime(2015, 8, 3, 0, 0),\n       datetime.datetime(2015, 8, 4, 0, 0),\n       datetime.datetime(2015, 8, 5, 0, 0),\n       datetime.datetime(2015, 8, 6, 0, 0),\n       datetime.datetime(2015, 8, 7, 0, 0),\n       datetime.datetime(2015, 8, 8, 0, 0),\n       datetime.datetime(2015, 8, 9, 0, 0),\n       datetime.datetime(2015, 8, 10, 0, 0),\n       datetime.datetime(2015, 8, 11, 0, 0),\n       datetime.datetime(2015, 8, 12, 0, 0),\n       datetime.datetime(2015, 9, 1, 0, 0),\n       datetime.datetime(2015, 9, 2, 0, 0),\n       datetime.datetime(2015, 9, 3, 0, 0),\n       datetime.datetime(2015, 9, 4, 0, 0),\n       datetime.datetime(2015, 9, 5, 0, 0),\n       datetime.datetime(2015, 9, 6, 0, 0),\n       datetime.datetime(2015, 9, 7, 0, 0),\n       datetime.datetime(2015, 9, 8, 0, 0),\n       datetime.datetime(2015, 9, 9, 0, 0),\n       datetime.datetime(2015, 9, 10, 0, 0),\n       datetime.datetime(2015, 9, 11, 0, 0),\n       datetime.datetime(2015, 9, 12, 0, 0),\n       datetime.datetime(2015, 10, 1, 0, 0),\n       datetime.datetime(2015, 10, 2, 0, 0),\n       datetime.datetime(2015, 10, 3, 0, 0),\n       datetime.datetime(2015, 10, 4, 0, 0),\n       datetime.datetime(2015, 10, 5, 0, 0),\n       datetime.datetime(2015, 10, 6, 0, 0),\n       datetime.datetime(2015, 10, 7, 0, 0),\n       datetime.datetime(2015, 10, 8, 0, 0),\n       datetime.datetime(2015, 10, 9, 0, 0),\n       datetime.datetime(2015, 10, 10, 0, 0),\n       datetime.datetime(2015, 10, 11, 0, 0),\n       datetime.datetime(2015, 10, 12, 0, 0),\n       datetime.datetime(2015, 11, 1, 0, 0),\n       datetime.datetime(2015, 11, 2, 0, 0),\n       datetime.datetime(2015, 11, 3, 0, 0),\n       datetime.datetime(2015, 11, 4, 0, 0),\n       datetime.datetime(2015, 11, 5, 0, 0),\n       datetime.datetime(2015, 11, 6, 0, 0),\n       datetime.datetime(2015, 11, 7, 0, 0),\n       datetime.datetime(2015, 11, 8, 0, 0),\n       datetime.datetime(2015, 11, 9, 0, 0),\n       datetime.datetime(2015, 11, 10, 0, 0),\n       datetime.datetime(2015, 11, 11, 0, 0),\n       datetime.datetime(2015, 11, 12, 0, 0),\n       datetime.datetime(2015, 12, 1, 0, 0),\n       datetime.datetime(2015, 12, 2, 0, 0),\n       datetime.datetime(2015, 12, 3, 0, 0),\n       datetime.datetime(2015, 12, 4, 0, 0),\n       datetime.datetime(2015, 12, 5, 0, 0),\n       datetime.datetime(2015, 12, 6, 0, 0),\n       datetime.datetime(2015, 12, 7, 0, 0),\n       datetime.datetime(2015, 12, 8, 0, 0),\n       datetime.datetime(2015, 12, 9, 0, 0),\n       datetime.datetime(2015, 12, 11, 0, 0),\n       datetime.datetime(2015, 12, 12, 0, 0), '13-01-2015', '13-02-2015',\n       '13-03-2015', '13-04-2015', '13-05-2015', '13-06-2015',\n       '13-07-2015', '13-08-2015', '13-09-2015', '13-10-2015',\n       '13-11-2015', '13-12-2015', '14-01-2015', '14-02-2015',\n       '14-03-2015', '14-04-2015', '14-05-2015', '14-06-2015',\n       '14-07-2015', '14-08-2015', '14-09-2015', '14-10-2015',\n       '14-11-2015', '14-12-2015', '15-01-2015', '15-02-2015',\n       '15-03-2015', '15-04-2015', '15-05-2015', '15-06-2015',\n       '15-07-2015', '15-08-2015', '15-09-2015', '15-10-2015',\n       '15-11-2015', '15-12-2015', '16-01-2015', '16-02-2015',\n       '16-03-2015', '16-04-2015', '16-05-2015', '16-06-2015',\n       '16-07-2015', '16-08-2015', '16-09-2015', '16-10-2015',\n       '16-11-2015', '16-12-2015', '17-01-2015', '17-02-2015',\n       '17-03-2015', '17-04-2015', '17-05-2015', '17-06-2015',\n       '17-07-2015', '17-08-2015', '17-09-2015', '17-10-2015',\n       '17-11-2015', '17-12-2015', '18-01-2015', '18-02-2015',\n       '18-03-2015', '18-04-2015', '18-05-2015', '18-06-2015',\n       '18-07-2015', '18-08-2015', '18-09-2015', '18-10-2015',\n       '18-11-2015', '18-12-2015', '19-01-2015', '19-02-2015',\n       '19-03-2015', '19-04-2015', '19-05-2015', '19-06-2015',\n       '19-07-2015', '19-08-2015', '19-09-2015', '19-11-2015',\n       '19-12-2015', '20-01-2015', '20-02-2015', '20-03-2015',\n       '20-04-2015', '20-05-2015', '20-06-2015', '20-07-2015',\n       '20-08-2015', '20-09-2015', '20-10-2015', '20-11-2015',\n       '20-12-2015', '21-01-2015', '21-02-2015', '21-03-2015',\n       '21-04-2015', '21-05-2015', '21-06-2015', '21-07-2015',\n       '21-08-2015', '21-09-2015', '21-10-2015', '21-11-2015',\n       '21-12-2015', '22-01-2015', '22-02-2015', '22-03-2015',\n       '22-04-2015', '22-05-2015', '22-06-2015', '22-07-2015',\n       '22-08-2015', '22-09-2015', '22-10-2015', '22-11-2015',\n       '22-12-2015', '23-01-2015', '23-02-2015', '23-03-2015',\n       '23-04-2015', '23-05-2015', '23-06-2015', '23-07-2015',\n       '23-08-2015', '23-09-2015', '23-10-2015', '23-11-2015',\n       '23-12-2015', '24-01-2015', '24-02-2015', '24-03-2015',\n       '24-04-2015', '24-05-2015', '24-06-2015', '24-07-2015',\n       '24-08-2015', '24-10-2015', '24-11-2015', '24-12-2015',\n       '25-01-2015', '25-02-2015', '25-03-2015', '25-04-2015',\n       '25-05-2015', '25-06-2015', '25-07-2015', '25-08-2015',\n       '25-10-2015', '25-11-2015', '26-01-2015', '26-02-2015',\n       '26-03-2015', '26-04-2015', '26-05-2015', '26-06-2015',\n       '26-07-2015', '26-08-2015', '26-09-2015', '26-11-2015',\n       '26-12-2015', '27-01-2015', '27-02-2015', '27-03-2015',\n       '27-04-2015', '27-05-2015', '27-06-2015', '27-07-2015',\n       '27-08-2015', '27-09-2015', '27-10-2015', '27-11-2015',\n       '27-12-2015', '28-01-2015', '28-02-2015', '28-03-2015',\n       '28-04-2015', '28-05-2015', '28-06-2015', '28-07-2015',\n       '28-08-2015', '28-09-2015', '28-10-2015', '28-11-2015'],\n      dtype=object)"
     ]
    },
    {
     "data": {
      "image/png": "[encoded data removed]",
      "text/plain": [
       "<Figure size 1000x500 with 1 Axes>"
      ]
     },
     "metadata": {},
     "output_type": "display_data"
    }
   ],
   "source": [
    "import pandas as pd\n",
    "import numpy as np\n",
    "import matplotlib.pyplot as plt\n",
    "from prophet import Prophet\n",
    "\n",
    "# Step 1: Prepare data\n",
    "df_daily = df.groupby('order_date')['total_price'].sum().reset_index()\n",
    "df_daily.columns = ['ds', 'y']\n",
    "\n",
    "# # Step 2: Split into train and test\n",
    "# forecast_days = 30 # change to 30 for 1-month forecast\n",
    "# train = df_daily[:-forecast_days]\n",
    "# test = df_daily[-forecast_days:]\n",
    "# Step 2: Split into train and test\n",
    "forecast_days = 30  # or 30 for monthly\n",
    "train = df_daily[:-forecast_days]\n",
    "test = df_daily[-forecast_days:].copy()\n",
    "\n",
    "# Step 3: Fit the model\n",
    "\n",
    "\n",
    "model = Prophet(\n",
    "    seasonality_mode='multiplicative',\n",
    "    changepoint_prior_scale=0.1,         # Lower = smoother trend\n",
    "    seasonality_prior_scale=10,           # Adjust this up/down\n",
    "    holidays_prior_scale=10\n",
    ")\n",
    "\n",
    "model.fit(train)\n",
    "\n",
    "# 🛠 Fix: ensure future includes correct number of days\n",
    "future = model.make_future_dataframe(periods=len(test), freq='D')\n",
    "forecast = model.predict(future)\n",
    "\n",
    "# Step 5: Align on dates for MAPE calculation\n",
    "forecast.set_index('ds', inplace=True)\n",
    "test.set_index('ds', inplace=True)\n",
    "predicted = forecast.reindex(test.index)\n",
    "\n",
    "\n",
    "\n",
    "# Step 6: Calculate MAPE\n",
    "def mape(y_true, y_pred):\n",
    "    return np.mean(np.abs((y_true - y_pred) / y_true)) * 100\n",
    "\n",
    "mape_value = mape(test['y'], predicted['yhat'])\n",
    "print(f'MAPE: {mape_value:.2f}%')\n",
    "\n",
    "# Step 7: Plot results\n",
    "import matplotlib.pyplot as plt\n",
    "plt.figure(figsize=(10,5))\n",
    "plt.plot(train['ds'], train['y'], label='Train')\n",
    "plt.plot(test.index, test['y'], label='Actual')\n",
    "plt.plot(predicted.index, predicted['yhat'], label='Forecast')\n",
    "plt.title('Sales Forecast vs Actual')\n",
    "plt.xlabel('Date')\n",
    "plt.ylabel('Sales')\n",
    "plt.legend()\n",
    "plt.tight_layout()\n",
    "plt.show()\n",
    "\n"
   ]
  },
  {
   "cell_type": "markdown",
   "id": "e818ead7",
   "metadata": {},
   "source": [
    "Reducing MAPE value by removing outlier"
   ]
  },
  {
   "cell_type": "code",
   "execution_count": null,
   "id": "717ef161",
   "metadata": {},
   "outputs": [
    {
     "name": "stderr",
     "output_type": "stream",
     "text": [
      "14:41:53 - cmdstanpy - INFO - Chain [1] start processing\n",
      "14:41:53 - cmdstanpy - INFO - Chain [1] done processing\n"
     ]
    },
    {
     "name": "stdout",
     "output_type": "stream",
     "text": [
      "MAPE: 2.69%\n"
     ]
    },
    {
     "data": {
      "image/png": "[encoded data removed]",
      "text/plain": [
       "<Figure size 1000x500 with 1 Axes>"
      ]
     },
     "metadata": {},
     "output_type": "display_data"
    },
    {
     "name": "stdout",
     "output_type": "stream",
     "text": [
      "Next 30 Days Forecast:\n",
      "                   yhat\n",
      "ds                     \n",
      "2015-11-01  2306.791125\n",
      "2015-11-02  2313.036895\n",
      "2015-11-03  2316.850725\n",
      "2015-11-04  2313.223741\n",
      "2015-11-05  2321.965740\n",
      "2015-11-06  2308.496850\n",
      "2015-11-07  2305.037200\n",
      "2015-11-08  2294.907571\n",
      "2015-11-09  2296.857075\n",
      "2015-11-10  2296.656390\n",
      "2015-11-11  2289.350429\n",
      "2015-11-12  2294.680757\n",
      "2015-11-13  2278.234762\n",
      "2015-11-14  2272.089866\n",
      "2015-11-15  2259.636835\n",
      "2015-11-16  2259.528192\n",
      "2015-11-17  2257.581609\n",
      "2015-11-18  2248.843160\n",
      "2015-11-19  2252.941091\n",
      "2015-11-20  2235.593218\n",
      "2015-11-21  2228.706035\n",
      "2015-11-23  2215.181828\n",
      "2015-11-24  2212.950476\n",
      "2015-11-25  2204.077036\n",
      "2015-11-26  2208.085283\n",
      "2015-11-27  2190.836742\n",
      "2015-11-28  2184.083335\n",
      "2015-11-29  2171.334633\n",
      "2015-11-30  2171.045710\n",
      "2015-12-01  2169.138299\n"
     ]
    }
   ],
   "source": [
    "import pandas as pd\n",
    "import numpy as np\n",
    "from prophet import Prophet\n",
    "import matplotlib.pyplot as plt\n",
    "\n",
    "# Step 1: Aggregate total daily sales\n",
    "df_daily = df.groupby('order_date')['total_price'].sum().reset_index()\n",
    "df_daily.columns = ['ds', 'y']\n",
    "\n",
    "# Step 2: Remove outliers (optional but improves MAPE)\n",
    "Q1 = df_daily['y'].quantile(0.25)\n",
    "Q3 = df_daily['y'].quantile(0.75)\n",
    "IQR = Q3 - Q1\n",
    "lower = Q1 - 1.5 * IQR\n",
    "upper = Q3 + 1.5 * IQR\n",
    "df_daily = df_daily[(df_daily['y'] >= lower) & (df_daily['y'] <= upper)]\n",
    "\n",
    "# Step 3: Smooth data (optional)\n",
    "df_daily['y'] = df_daily['y'].rolling(window=7, min_periods=1).mean()\n",
    "\n",
    "# Step 4: Train-test split for MAPE calculation (30 days test)\n",
    "train = df_daily[:-30]\n",
    "test = df_daily[-30:]\n",
    "\n",
    "# Step 5: Fit Prophet model\n",
    "model = Prophet(\n",
    "    yearly_seasonality=True,\n",
    "    weekly_seasonality=True,\n",
    "    daily_seasonality=False,\n",
    "    seasonality_mode='multiplicative',\n",
    "    changepoint_prior_scale=0.1\n",
    ")\n",
    "model.fit(train)\n",
    "\n",
    "# Step 6: Predict next 30 days (same length as test)\n",
    "future = model.make_future_dataframe(periods=7)\n",
    "forecast = model.predict(future)\n",
    "# Ensure 'ds' is datetime and set index\n",
    "forecast.set_index('ds', inplace=True)\n",
    "test.set_index('ds', inplace=True)\n",
    "\n",
    "# Join actual (test) and predicted (forecast) on date index safely\n",
    "evaluation_df = test[['y']].join(forecast[['yhat']], how='inner')\n",
    "\n",
    "# Step 7: MAPE Calculation\n",
    "def mape(y_true, y_pred):\n",
    "    return np.mean(np.abs((y_true - y_pred) / y_true)) * 100\n",
    "\n",
    "mape_score = mape(evaluation_df['y'], evaluation_df['yhat'])\n",
    "print(f\"MAPE: {mape_score:.2f}%\")\n",
    "\n",
    "\n",
    "\n",
    "\n",
    "# Step 8: Plot forecast\n",
    "# Reset index so 'ds' becomes a column again\n",
    "forecast_plot = forecast.reset_index()\n",
    "\n",
    "# # Plot the forecast\n",
    "# model.plot(forecast_plot)\n",
    "# plt.title(\"Sales Forecast with MAPE\")\n",
    "# plt.xlabel(\"Date\")\n",
    "# plt.ylabel(\"Sales\")\n",
    "# plt.show()\n",
    "\n",
    "\n",
    "# Step 7: Plot results\n",
    "import matplotlib.pyplot as plt\n",
    "plt.figure(figsize=(10,5))\n",
    "plt.plot(train['ds'], train['y'], label='Train')\n",
    "plt.plot(test.index, test['y'], label='Actual')\n",
    "plt.plot(predicted.index, predicted['yhat'], label='Forecast')\n",
    "plt.title('Sales Forecast vs Actual')\n",
    "plt.xlabel('Date')\n",
    "plt.ylabel('Sales')\n",
    "plt.legend()\n",
    "plt.tight_layout()\n",
    "plt.show()\n",
    "\n",
    "# Step 9: Show next 30-day forecast only\n",
    "next_30 = forecast[['yhat']].tail(30)\n",
    "print(\"Next 30 Days Forecast:\")\n",
    "print(next_30)\n"
   ]
  },
  {
   "cell_type": "markdown",
   "id": "c8cdef58",
   "metadata": {},
   "source": [
    "ARIMA MODEL"
   ]
  },
  {
   "cell_type": "code",
   "execution_count": null,
   "id": "3b26140b",
   "metadata": {},
   "outputs": [
    {
     "name": "stdout",
     "output_type": "stream",
     "text": [
      "index                0\n",
      "pizza_id             0\n",
      "order_id             0\n",
      "pizza_name_id        0\n",
      "quantity             0\n",
      "order_date           0\n",
      "order_time           0\n",
      "unit_price           0\n",
      "total_price          0\n",
      "pizza_size           0\n",
      "pizza_category       0\n",
      "pizza_ingredients    0\n",
      "pizza_name           0\n",
      "order_hour           0\n",
      "year                 0\n",
      "month                0\n",
      "day                  0\n",
      "weekday              0\n",
      "week                 0\n",
      "is_weekend           0\n",
      "dtype: int64\n"
     ]
    }
   ],
   "source": [
    "print(df.isna().sum())  # This will show the count of NaNs per column\n"
   ]
  },
  {
   "cell_type": "code",
   "execution_count": null,
   "id": "64340278",
   "metadata": {},
   "outputs": [],
   "source": [
    "\n",
    "# Convert date column to datetime\n",
    "df['Date'] = pd.to_datetime(df['order_date'])\n",
    "\n",
    "# Aggregate quantity by pizza and date\n",
    "grouped = df.groupby(['Date', 'pizza_name'])['quantity'].sum().reset_index()\n"
   ]
  },
  {
   "cell_type": "code",
   "execution_count": null,
   "id": "76fe1d5f",
   "metadata": {},
   "outputs": [
    {
     "name": "stderr",
     "output_type": "stream",
     "text": [
      "14:41:54 - cmdstanpy - INFO - Chain [1] start processing\n",
      "14:41:54 - cmdstanpy - INFO - Chain [1] done processing\n",
      "14:41:55 - cmdstanpy - INFO - Chain [1] start processing\n",
      "14:41:55 - cmdstanpy - INFO - Chain [1] done processing\n",
      "14:41:55 - cmdstanpy - INFO - Chain [1] start processing\n",
      "14:41:55 - cmdstanpy - INFO - Chain [1] done processing\n",
      "14:41:56 - cmdstanpy - INFO - Chain [1] start processing\n",
      "14:41:56 - cmdstanpy - INFO - Chain [1] done processing\n",
      "14:41:56 - cmdstanpy - INFO - Chain [1] start processing\n",
      "14:41:56 - cmdstanpy - INFO - Chain [1] done processing\n",
      "14:41:57 - cmdstanpy - INFO - Chain [1] start processing\n",
      "14:41:57 - cmdstanpy - INFO - Chain [1] done processing\n",
      "14:41:57 - cmdstanpy - INFO - Chain [1] start processing\n",
      "14:41:57 - cmdstanpy - INFO - Chain [1] done processing\n",
      "14:41:58 - cmdstanpy - INFO - Chain [1] start processing\n",
      "14:41:58 - cmdstanpy - INFO - Chain [1] done processing\n",
      "14:41:59 - cmdstanpy - INFO - Chain [1] start processing\n",
      "14:41:59 - cmdstanpy - INFO - Chain [1] done processing\n",
      "14:41:59 - cmdstanpy - INFO - Chain [1] start processing\n",
      "14:41:59 - cmdstanpy - INFO - Chain [1] done processing\n",
      "14:42:00 - cmdstanpy - INFO - Chain [1] start processing\n",
      "14:42:00 - cmdstanpy - INFO - Chain [1] done processing\n",
      "14:42:00 - cmdstanpy - INFO - Chain [1] start processing\n",
      "14:42:00 - cmdstanpy - INFO - Chain [1] done processing\n",
      "14:42:00 - cmdstanpy - INFO - Chain [1] start processing\n",
      "14:42:01 - cmdstanpy - INFO - Chain [1] done processing\n",
      "14:42:01 - cmdstanpy - INFO - Chain [1] start processing\n",
      "14:42:01 - cmdstanpy - INFO - Chain [1] done processing\n",
      "14:42:01 - cmdstanpy - INFO - Chain [1] start processing\n",
      "14:42:01 - cmdstanpy - INFO - Chain [1] done processing\n",
      "14:42:02 - cmdstanpy - INFO - Chain [1] start processing\n",
      "14:42:02 - cmdstanpy - INFO - Chain [1] done processing\n",
      "14:42:02 - cmdstanpy - INFO - Chain [1] start processing\n",
      "14:42:03 - cmdstanpy - INFO - Chain [1] done processing\n",
      "14:42:03 - cmdstanpy - INFO - Chain [1] start processing\n",
      "14:42:03 - cmdstanpy - INFO - Chain [1] done processing\n",
      "14:42:04 - cmdstanpy - INFO - Chain [1] start processing\n",
      "14:42:04 - cmdstanpy - INFO - Chain [1] done processing\n",
      "14:42:04 - cmdstanpy - INFO - Chain [1] start processing\n",
      "14:42:04 - cmdstanpy - INFO - Chain [1] done processing\n",
      "14:42:05 - cmdstanpy - INFO - Chain [1] start processing\n",
      "14:42:05 - cmdstanpy - INFO - Chain [1] done processing\n",
      "14:42:05 - cmdstanpy - INFO - Chain [1] start processing\n",
      "14:42:05 - cmdstanpy - INFO - Chain [1] done processing\n",
      "14:42:06 - cmdstanpy - INFO - Chain [1] start processing\n",
      "14:42:06 - cmdstanpy - INFO - Chain [1] done processing\n",
      "14:42:07 - cmdstanpy - INFO - Chain [1] start processing\n",
      "14:42:07 - cmdstanpy - INFO - Chain [1] done processing\n",
      "14:42:07 - cmdstanpy - INFO - Chain [1] start processing\n",
      "14:42:07 - cmdstanpy - INFO - Chain [1] done processing\n",
      "14:42:08 - cmdstanpy - INFO - Chain [1] start processing\n",
      "14:42:08 - cmdstanpy - INFO - Chain [1] done processing\n",
      "14:42:08 - cmdstanpy - INFO - Chain [1] start processing\n",
      "14:42:08 - cmdstanpy - INFO - Chain [1] done processing\n",
      "14:42:09 - cmdstanpy - INFO - Chain [1] start processing\n",
      "14:42:09 - cmdstanpy - INFO - Chain [1] done processing\n",
      "14:42:09 - cmdstanpy - INFO - Chain [1] start processing\n",
      "14:42:09 - cmdstanpy - INFO - Chain [1] done processing\n",
      "14:42:10 - cmdstanpy - INFO - Chain [1] start processing\n",
      "14:42:10 - cmdstanpy - INFO - Chain [1] done processing\n",
      "14:42:10 - cmdstanpy - INFO - Chain [1] start processing\n",
      "14:42:11 - cmdstanpy - INFO - Chain [1] done processing\n",
      "14:42:11 - cmdstanpy - INFO - Chain [1] start processing\n",
      "14:42:11 - cmdstanpy - INFO - Chain [1] done processing\n"
     ]
    },
    {
     "name": "stdout",
     "output_type": "stream",
     "text": [
      "                                    pizza_name  Predicted_Quantity\n",
      "0                   The Barbecue Chicken Pizza          192.480638\n",
      "1                           The Big Meat Pizza          162.630815\n",
      "2                         The Brie Carre Pizza           59.236262\n",
      "3                          The Calabrese Pizza           92.870432\n",
      "4                 The California Chicken Pizza          191.234739\n",
      "5                    The Chicken Alfredo Pizza           93.465669\n",
      "6                      The Chicken Pesto Pizza           88.742634\n",
      "7                     The Classic Deluxe Pizza          215.914932\n",
      "8                        The Five Cheese Pizza          116.814642\n",
      "9                        The Four Cheese Pizza          161.791821\n",
      "10                             The Greek Pizza          123.799444\n",
      "11                      The Green Garden Pizza           83.162252\n",
      "12                          The Hawaiian Pizza          206.891723\n",
      "13                 The Italian Capocollo Pizza          114.690336\n",
      "14                   The Italian Supreme Pizza          150.859736\n",
      "15                The Italian Vegetables Pizza           93.382742\n",
      "16                     The Mediterranean Pizza           92.109859\n",
      "17                          The Mexicana Pizza          129.442990\n",
      "18                        The Napolitana Pizza          116.599071\n",
      "19                     The Pepper Salami Pizza          124.768463\n",
      "20                         The Pepperoni Pizza          200.757593\n",
      "21  The Pepperoni, Mushroom, and Peppers Pizza          105.825173\n",
      "22            The Prosciutto and Arugula Pizza          123.609423\n",
      "23                          The Sicilian Pizza          164.182438\n",
      "24                       The Soppressata Pizza           82.833994\n",
      "25                 The Southwest Chicken Pizza          160.905087\n",
      "26                     The Spicy Italian Pizza          159.599966\n",
      "27                     The Spinach Pesto Pizza           88.188900\n",
      "28                   The Spinach Supreme Pizza           76.777900\n",
      "29                  The Spinach and Feta Pizza          114.906022\n",
      "30                      The Thai Chicken Pizza          199.023166\n",
      "31           The Vegetables + Vegetables Pizza          127.316333\n"
     ]
    }
   ],
   "source": [
    "from prophet import Prophet\n",
    "\n",
    "# Function to forecast for 1 pizza\n",
    "def forecast_pizza(pizza_name, data):\n",
    "    pizza_df = data[data['pizza_name'] == pizza_name]\n",
    "    pizza_daily = pizza_df.groupby('Date')['quantity'].sum().reset_index()\n",
    "    pizza_daily.columns = ['ds', 'y']  # Prophet requires these column names\n",
    "\n",
    "    model = Prophet()\n",
    "    model.fit(pizza_daily)\n",
    "\n",
    "    future = model.make_future_dataframe(periods=30)\n",
    "    forecast = model.predict(future)\n",
    "\n",
    "    result = forecast[['ds', 'yhat']].tail(30)\n",
    "    result['pizza_name'] = pizza_name\n",
    "    return result\n",
    "\n",
    "# Apply to all pizzas\n",
    "all_pizzas = df['pizza_name'].unique()\n",
    "forecast_results = pd.concat([forecast_pizza(pizza, grouped) for pizza in all_pizzas])\n",
    "\n",
    "# Total quantity forecast per pizza\n",
    "monthly_quantity = forecast_results.groupby('pizza_name')['yhat'].sum().reset_index()\n",
    "monthly_quantity.rename(columns={'yhat': 'Predicted_Quantity'}, inplace=True)\n",
    "print(monthly_quantity)\n"
   ]
  },
  {
   "cell_type": "code",
   "execution_count": null,
   "id": "066ca20c",
   "metadata": {},
   "outputs": [],
   "source": [
    "ingredients = pd.read_csv(\"ingredients.csv\")\n"
   ]
  },
  {
   "cell_type": "code",
   "execution_count": null,
   "id": "9ee765f2",
   "metadata": {},
   "outputs": [],
   "source": [
    "# Merge forecast with ingredients\n",
    "combined_df = pd.merge(ingredients, monthly_quantity, on='pizza_name')\n",
    "\n",
    "# Calculate total ingredient quantity needed\n",
    "combined_df['Total_Ingredient_Quantity'] = combined_df['Items_Qty_In_Grams'] * combined_df['Predicted_Quantity']\n"
   ]
  },
  {
   "cell_type": "code",
   "execution_count": null,
   "id": "be73e84b",
   "metadata": {},
   "outputs": [],
   "source": [
    "ingredient_totals = combined_df.groupby('pizza_ingredients')['Total_Ingredient_Quantity'].sum().reset_index()\n"
   ]
  },
  {
   "cell_type": "code",
   "execution_count": null,
   "id": "30d29bde",
   "metadata": {},
   "outputs": [
    {
     "name": "stdout",
     "output_type": "stream",
     "text": [
      "          pizza_ingredients  Total_Ingredient_Quantity\n",
      "0             Alfredo Sauce                4205.955123\n",
      "1                 Anchovies                9910.921002\n",
      "2                Artichokes               31558.234775\n",
      "3                   Arugula                3708.282675\n",
      "4             Asiago Cheese               17700.721972\n",
      "..                      ...                        ...\n",
      "59  Thai Sweet Chilli Sauce               11941.389947\n",
      "60                    Thyme                 296.181311\n",
      "61                 Tomatoes              148349.501619\n",
      "62                 Zucchini               13241.944496\n",
      "63             nduja Salami               11144.451861\n",
      "\n",
      "[64 rows x 2 columns]\n"
     ]
    }
   ],
   "source": [
    "print(ingredient_totals)"
   ]
  },
  {
   "cell_type": "code",
   "execution_count": 78,
   "id": "acdfe93a",
   "metadata": {},
   "outputs": [
    {
     "name": "stderr",
     "output_type": "stream",
     "text": [
      "19:28:57 - cmdstanpy - INFO - Chain [1] start processing\n",
      "19:28:57 - cmdstanpy - INFO - Chain [1] done processing\n",
      "19:28:57 - cmdstanpy - INFO - Chain [1] start processing\n",
      "19:28:58 - cmdstanpy - INFO - Chain [1] done processing\n",
      "19:28:58 - cmdstanpy - INFO - Chain [1] start processing\n",
      "19:28:58 - cmdstanpy - INFO - Chain [1] done processing\n",
      "19:28:58 - cmdstanpy - INFO - Chain [1] start processing\n",
      "19:28:58 - cmdstanpy - INFO - Chain [1] done processing\n",
      "19:28:58 - cmdstanpy - INFO - Chain [1] start processing\n",
      "19:28:59 - cmdstanpy - INFO - Chain [1] done processing\n",
      "19:28:59 - cmdstanpy - INFO - Chain [1] start processing\n",
      "19:28:59 - cmdstanpy - INFO - Chain [1] done processing\n",
      "19:28:59 - cmdstanpy - INFO - Chain [1] start processing\n",
      "19:28:59 - cmdstanpy - INFO - Chain [1] done processing\n",
      "19:29:00 - cmdstanpy - INFO - Chain [1] start processing\n",
      "19:29:00 - cmdstanpy - INFO - Chain [1] done processing\n",
      "19:29:00 - cmdstanpy - INFO - Chain [1] start processing\n",
      "19:29:00 - cmdstanpy - INFO - Chain [1] done processing\n",
      "19:29:00 - cmdstanpy - INFO - Chain [1] start processing\n",
      "19:29:00 - cmdstanpy - INFO - Chain [1] done processing\n",
      "19:29:01 - cmdstanpy - INFO - Chain [1] start processing\n",
      "19:29:01 - cmdstanpy - INFO - Chain [1] done processing\n",
      "19:29:01 - cmdstanpy - INFO - Chain [1] start processing\n",
      "19:29:01 - cmdstanpy - INFO - Chain [1] done processing\n",
      "19:29:01 - cmdstanpy - INFO - Chain [1] start processing\n",
      "19:29:01 - cmdstanpy - INFO - Chain [1] done processing\n",
      "19:29:02 - cmdstanpy - INFO - Chain [1] start processing\n",
      "19:29:02 - cmdstanpy - INFO - Chain [1] done processing\n",
      "19:29:02 - cmdstanpy - INFO - Chain [1] start processing\n",
      "19:29:02 - cmdstanpy - INFO - Chain [1] done processing\n",
      "19:29:02 - cmdstanpy - INFO - Chain [1] start processing\n",
      "19:29:02 - cmdstanpy - INFO - Chain [1] done processing\n",
      "19:29:02 - cmdstanpy - INFO - Chain [1] start processing\n",
      "19:29:03 - cmdstanpy - INFO - Chain [1] done processing\n",
      "19:29:03 - cmdstanpy - INFO - Chain [1] start processing\n",
      "19:29:03 - cmdstanpy - INFO - Chain [1] done processing\n",
      "19:29:03 - cmdstanpy - INFO - Chain [1] start processing\n",
      "19:29:03 - cmdstanpy - INFO - Chain [1] done processing\n",
      "19:29:03 - cmdstanpy - INFO - Chain [1] start processing\n",
      "19:29:04 - cmdstanpy - INFO - Chain [1] done processing\n",
      "19:29:04 - cmdstanpy - INFO - Chain [1] start processing\n",
      "19:29:04 - cmdstanpy - INFO - Chain [1] done processing\n",
      "19:29:04 - cmdstanpy - INFO - Chain [1] start processing\n",
      "19:29:04 - cmdstanpy - INFO - Chain [1] done processing\n",
      "19:29:05 - cmdstanpy - INFO - Chain [1] start processing\n",
      "19:29:05 - cmdstanpy - INFO - Chain [1] done processing\n",
      "19:29:05 - cmdstanpy - INFO - Chain [1] start processing\n",
      "19:29:05 - cmdstanpy - INFO - Chain [1] done processing\n",
      "19:29:05 - cmdstanpy - INFO - Chain [1] start processing\n",
      "19:29:05 - cmdstanpy - INFO - Chain [1] done processing\n",
      "19:29:05 - cmdstanpy - INFO - Chain [1] start processing\n",
      "19:29:06 - cmdstanpy - INFO - Chain [1] done processing\n",
      "19:29:06 - cmdstanpy - INFO - Chain [1] start processing\n",
      "19:29:06 - cmdstanpy - INFO - Chain [1] done processing\n",
      "19:29:06 - cmdstanpy - INFO - Chain [1] start processing\n",
      "19:29:06 - cmdstanpy - INFO - Chain [1] done processing\n",
      "19:29:06 - cmdstanpy - INFO - Chain [1] start processing\n",
      "19:29:07 - cmdstanpy - INFO - Chain [1] done processing\n",
      "19:29:07 - cmdstanpy - INFO - Chain [1] start processing\n",
      "19:29:07 - cmdstanpy - INFO - Chain [1] done processing\n",
      "19:29:07 - cmdstanpy - INFO - Chain [1] start processing\n",
      "19:29:07 - cmdstanpy - INFO - Chain [1] done processing\n",
      "19:29:07 - cmdstanpy - INFO - Chain [1] start processing\n",
      "19:29:08 - cmdstanpy - INFO - Chain [1] done processing\n",
      "19:29:08 - cmdstanpy - INFO - Chain [1] start processing\n",
      "19:29:08 - cmdstanpy - INFO - Chain [1] done processing\n",
      "19:29:08 - cmdstanpy - INFO - Chain [1] start processing\n",
      "19:29:08 - cmdstanpy - INFO - Chain [1] done processing\n",
      "19:29:08 - cmdstanpy - INFO - Chain [1] start processing\n",
      "19:29:08 - cmdstanpy - INFO - Chain [1] done processing\n",
      "19:29:09 - cmdstanpy - INFO - Chain [1] start processing\n",
      "19:29:09 - cmdstanpy - INFO - Chain [1] done processing\n",
      "19:29:09 - cmdstanpy - INFO - Chain [1] start processing\n",
      "19:29:09 - cmdstanpy - INFO - Chain [1] done processing\n",
      "19:29:09 - cmdstanpy - INFO - Chain [1] start processing\n",
      "19:29:09 - cmdstanpy - INFO - Chain [1] done processing\n",
      "19:29:10 - cmdstanpy - INFO - Chain [1] start processing\n",
      "19:29:10 - cmdstanpy - INFO - Chain [1] done processing\n",
      "19:29:10 - cmdstanpy - INFO - Chain [1] start processing\n",
      "19:29:10 - cmdstanpy - INFO - Chain [1] done processing\n",
      "19:29:10 - cmdstanpy - INFO - Chain [1] start processing\n",
      "19:29:10 - cmdstanpy - INFO - Chain [1] done processing\n",
      "19:29:11 - cmdstanpy - INFO - Chain [1] start processing\n",
      "19:29:11 - cmdstanpy - INFO - Chain [1] done processing\n",
      "19:29:11 - cmdstanpy - INFO - Chain [1] start processing\n",
      "19:29:11 - cmdstanpy - INFO - Chain [1] done processing\n",
      "19:29:11 - cmdstanpy - INFO - Chain [1] start processing\n",
      "19:29:11 - cmdstanpy - INFO - Chain [1] done processing\n",
      "19:29:12 - cmdstanpy - INFO - Chain [1] start processing\n",
      "19:29:12 - cmdstanpy - INFO - Chain [1] done processing\n",
      "19:29:12 - cmdstanpy - INFO - Chain [1] start processing\n",
      "19:29:12 - cmdstanpy - INFO - Chain [1] done processing\n",
      "19:29:12 - cmdstanpy - INFO - Chain [1] start processing\n",
      "19:29:12 - cmdstanpy - INFO - Chain [1] done processing\n",
      "19:29:13 - cmdstanpy - INFO - Chain [1] start processing\n",
      "19:29:13 - cmdstanpy - INFO - Chain [1] done processing\n",
      "19:29:13 - cmdstanpy - INFO - Chain [1] start processing\n",
      "19:29:13 - cmdstanpy - INFO - Chain [1] done processing\n",
      "19:29:13 - cmdstanpy - INFO - Chain [1] start processing\n",
      "19:29:14 - cmdstanpy - INFO - Chain [1] done processing\n",
      "19:29:14 - cmdstanpy - INFO - Chain [1] start processing\n",
      "19:29:14 - cmdstanpy - INFO - Chain [1] done processing\n",
      "19:29:14 - cmdstanpy - INFO - Chain [1] start processing\n",
      "19:29:14 - cmdstanpy - INFO - Chain [1] done processing\n",
      "19:29:14 - cmdstanpy - INFO - Chain [1] start processing\n",
      "19:29:14 - cmdstanpy - INFO - Chain [1] done processing\n",
      "19:29:15 - cmdstanpy - INFO - Chain [1] start processing\n",
      "19:29:15 - cmdstanpy - INFO - Chain [1] done processing\n",
      "19:29:15 - cmdstanpy - INFO - Chain [1] start processing\n",
      "19:29:15 - cmdstanpy - INFO - Chain [1] done processing\n",
      "19:29:15 - cmdstanpy - INFO - Chain [1] start processing\n",
      "19:29:15 - cmdstanpy - INFO - Chain [1] done processing\n",
      "19:29:16 - cmdstanpy - INFO - Chain [1] start processing\n",
      "19:29:16 - cmdstanpy - INFO - Chain [1] done processing\n",
      "19:29:16 - cmdstanpy - INFO - Chain [1] start processing\n",
      "19:29:16 - cmdstanpy - INFO - Chain [1] done processing\n",
      "19:29:16 - cmdstanpy - INFO - Chain [1] start processing\n",
      "19:29:16 - cmdstanpy - INFO - Chain [1] done processing\n",
      "19:29:17 - cmdstanpy - INFO - Chain [1] start processing\n",
      "19:29:17 - cmdstanpy - INFO - Chain [1] done processing\n",
      "19:29:17 - cmdstanpy - INFO - Chain [1] start processing\n",
      "19:29:17 - cmdstanpy - INFO - Chain [1] done processing\n",
      "19:29:17 - cmdstanpy - INFO - Chain [1] start processing\n",
      "19:29:17 - cmdstanpy - INFO - Chain [1] done processing\n",
      "19:29:18 - cmdstanpy - INFO - Chain [1] start processing\n",
      "19:29:18 - cmdstanpy - INFO - Chain [1] done processing\n",
      "19:29:18 - cmdstanpy - INFO - Chain [1] start processing\n",
      "19:29:18 - cmdstanpy - INFO - Chain [1] done processing\n",
      "19:29:18 - cmdstanpy - INFO - Chain [1] start processing\n",
      "19:29:18 - cmdstanpy - INFO - Chain [1] done processing\n",
      "19:29:18 - cmdstanpy - INFO - Chain [1] start processing\n",
      "19:29:18 - cmdstanpy - INFO - Chain [1] done processing\n",
      "19:29:19 - cmdstanpy - INFO - Chain [1] start processing\n",
      "19:29:19 - cmdstanpy - INFO - Chain [1] done processing\n",
      "19:29:19 - cmdstanpy - INFO - Chain [1] start processing\n",
      "19:29:19 - cmdstanpy - INFO - Chain [1] done processing\n",
      "19:29:19 - cmdstanpy - INFO - Chain [1] start processing\n",
      "19:29:19 - cmdstanpy - INFO - Chain [1] done processing\n",
      "19:29:20 - cmdstanpy - INFO - Chain [1] start processing\n",
      "19:29:20 - cmdstanpy - INFO - Chain [1] done processing\n",
      "19:29:20 - cmdstanpy - INFO - Chain [1] start processing\n",
      "19:29:20 - cmdstanpy - INFO - Chain [1] done processing\n",
      "19:29:20 - cmdstanpy - INFO - Chain [1] start processing\n",
      "19:29:20 - cmdstanpy - INFO - Chain [1] done processing\n",
      "19:29:21 - cmdstanpy - INFO - Chain [1] start processing\n",
      "19:29:21 - cmdstanpy - INFO - Chain [1] done processing\n",
      "19:29:21 - cmdstanpy - INFO - Chain [1] start processing\n",
      "19:29:21 - cmdstanpy - INFO - Chain [1] done processing\n",
      "19:29:21 - cmdstanpy - INFO - Chain [1] start processing\n",
      "19:29:21 - cmdstanpy - INFO - Chain [1] done processing\n",
      "19:29:21 - cmdstanpy - INFO - Chain [1] start processing\n",
      "19:29:21 - cmdstanpy - INFO - Chain [1] done processing\n",
      "19:29:22 - cmdstanpy - INFO - Chain [1] start processing\n",
      "19:29:22 - cmdstanpy - INFO - Chain [1] done processing\n",
      "19:29:22 - cmdstanpy - INFO - Chain [1] start processing\n",
      "19:29:22 - cmdstanpy - INFO - Chain [1] done processing\n",
      "19:29:22 - cmdstanpy - INFO - Chain [1] start processing\n",
      "19:29:22 - cmdstanpy - INFO - Chain [1] done processing\n",
      "19:29:23 - cmdstanpy - INFO - Chain [1] start processing\n",
      "19:29:23 - cmdstanpy - INFO - Chain [1] done processing\n",
      "19:29:23 - cmdstanpy - INFO - Chain [1] start processing\n",
      "19:29:23 - cmdstanpy - INFO - Chain [1] done processing\n",
      "19:29:23 - cmdstanpy - INFO - Chain [1] start processing\n",
      "19:29:23 - cmdstanpy - INFO - Chain [1] done processing\n",
      "19:29:24 - cmdstanpy - INFO - Chain [1] start processing\n",
      "19:29:24 - cmdstanpy - INFO - Chain [1] done processing\n",
      "19:29:24 - cmdstanpy - INFO - Chain [1] start processing\n",
      "19:29:24 - cmdstanpy - INFO - Chain [1] done processing\n",
      "19:29:24 - cmdstanpy - INFO - Chain [1] start processing\n",
      "19:29:24 - cmdstanpy - INFO - Chain [1] done processing\n",
      "19:29:25 - cmdstanpy - INFO - Chain [1] start processing\n",
      "19:29:25 - cmdstanpy - INFO - Chain [1] done processing\n",
      "19:29:25 - cmdstanpy - INFO - Chain [1] start processing\n",
      "19:29:25 - cmdstanpy - INFO - Chain [1] done processing\n",
      "19:29:25 - cmdstanpy - INFO - Chain [1] start processing\n",
      "19:29:25 - cmdstanpy - INFO - Chain [1] done processing\n",
      "19:29:26 - cmdstanpy - INFO - Chain [1] start processing\n",
      "19:29:26 - cmdstanpy - INFO - Chain [1] done processing\n",
      "19:29:26 - cmdstanpy - INFO - Chain [1] start processing\n",
      "19:29:26 - cmdstanpy - INFO - Chain [1] done processing\n"
     ]
    },
    {
     "name": "stdout",
     "output_type": "stream",
     "text": [
      "                           pizza_name pizza_size  Predicted_Quantity\n",
      "0          The Barbecue Chicken Pizza          L           80.672131\n",
      "1          The Barbecue Chicken Pizza          M           88.158742\n",
      "2          The Barbecue Chicken Pizza          S           50.839917\n",
      "3                  The Big Meat Pizza          S          162.630815\n",
      "4                The Brie Carre Pizza          S           59.236262\n",
      "..                                ...        ...                 ...\n",
      "86             The Thai Chicken Pizza          M           52.097047\n",
      "87             The Thai Chicken Pizza          S           56.889477\n",
      "88  The Vegetables + Vegetables Pizza          L           52.612814\n",
      "89  The Vegetables + Vegetables Pizza          M           61.692442\n",
      "90  The Vegetables + Vegetables Pizza          S           57.225467\n",
      "\n",
      "[91 rows x 3 columns]\n"
     ]
    }
   ],
   "source": [
    "from prophet import Prophet\n",
    "\n",
    "# Forecast function for each pizza + size\n",
    "def forecast_pizza_size(pizza_name, pizza_size, data):\n",
    "    subset = data[(data['pizza_name'] == pizza_name) & (data['pizza_size'] == pizza_size)]\n",
    "    pizza_daily = subset.groupby('order_date')['quantity'].sum().reset_index()\n",
    "    pizza_daily.columns = ['ds', 'y']\n",
    "\n",
    "    model = Prophet()\n",
    "    model.fit(pizza_daily)\n",
    "\n",
    "    future = model.make_future_dataframe(periods=30)\n",
    "    forecast = model.predict(future)\n",
    "\n",
    "    result = forecast[['ds', 'yhat']].tail(30)\n",
    "    result['pizza_name'] = pizza_name\n",
    "    result['pizza_size'] = pizza_size\n",
    "    return result\n",
    "\n",
    "# Unique combinations of pizza and size\n",
    "unique_combos = df[['pizza_name', 'pizza_size']].drop_duplicates()\n",
    "\n",
    "# Forecast for each combination\n",
    "forecast_results = pd.concat([\n",
    "    forecast_pizza_size(row['pizza_name'], row['pizza_size'], df)\n",
    "    for _, row in unique_combos.iterrows()\n",
    "])\n",
    "\n",
    "# Monthly forecasted quantity per pizza + size\n",
    "monthly_quantity = forecast_results.groupby(['pizza_name', 'pizza_size'])['yhat'].sum().reset_index()\n",
    "monthly_quantity.rename(columns={'yhat': 'Predicted_Quantity'}, inplace=True)\n",
    "\n",
    "print(monthly_quantity)\n"
   ]
  },
  {
   "cell_type": "code",
   "execution_count": 79,
   "id": "853afe55",
   "metadata": {},
   "outputs": [
    {
     "ename": "NameError",
     "evalue": "name 'monthly_quantity_with_size' is not defined",
     "output_type": "error",
     "traceback": [
      "\u001b[1;31m---------------------------------------------------------------------------\u001b[0m",
      "\u001b[1;31mNameError\u001b[0m                                 Traceback (most recent call last)",
      "Cell \u001b[1;32mIn[79], line 2\u001b[0m\n\u001b[0;32m      1\u001b[0m \u001b[38;5;66;03m# Merge forecast and ingredients per size\u001b[39;00m\n\u001b[1;32m----> 2\u001b[0m combined \u001b[38;5;241m=\u001b[39m pd\u001b[38;5;241m.\u001b[39mmerge(ingredients, monthly_quantity_with_size, on\u001b[38;5;241m=\u001b[39m[\u001b[38;5;124m'\u001b[39m\u001b[38;5;124mpizza_name\u001b[39m\u001b[38;5;124m'\u001b[39m, \u001b[38;5;124m'\u001b[39m\u001b[38;5;124mpizza_size\u001b[39m\u001b[38;5;124m'\u001b[39m])\n\u001b[0;32m      4\u001b[0m \u001b[38;5;66;03m# Calculate total ingredient quantity needed\u001b[39;00m\n\u001b[0;32m      5\u001b[0m combined[\u001b[38;5;124m'\u001b[39m\u001b[38;5;124mtotal_ingredient_grams\u001b[39m\u001b[38;5;124m'\u001b[39m] \u001b[38;5;241m=\u001b[39m combined[\u001b[38;5;124m'\u001b[39m\u001b[38;5;124mquantity_in_grams\u001b[39m\u001b[38;5;124m'\u001b[39m] \u001b[38;5;241m*\u001b[39m combined[\u001b[38;5;124m'\u001b[39m\u001b[38;5;124mPredicted_Quantity\u001b[39m\u001b[38;5;124m'\u001b[39m]\n",
      "\u001b[1;31mNameError\u001b[0m: name 'monthly_quantity_with_size' is not defined"
     ]
    }
   ],
   "source": [
    "# Merge forecast and ingredients per size\n",
    "combined = pd.merge(ingredients, monthly_quantity_with_size, on=['pizza_name', 'pizza_size'])\n",
    "\n",
    "# Calculate total ingredient quantity needed\n",
    "combined['total_ingredient_grams'] = combined['quantity_in_grams'] * combined['Predicted_Quantity']\n",
    "\n",
    "# Aggregate by ingredient\n",
    "ingredient_totals = combined.groupby('ingredient')['total_ingredient_grams'].sum().reset_index()\n",
    "\n",
    "# Add kg column\n",
    "ingredient_totals['total_ingredient_kilos'] = ingredient_totals['total_ingredient_grams'] / 1000\n",
    "\n",
    "# Optional: round for readability\n",
    "ingredient_totals = ingredient_totals.round({'total_ingredient_grams': 2, 'total_ingredient_kilos': 2})\n",
    "\n",
    "print(ingredient_totals)\n"
   ]
  },
  {
   "cell_type": "code",
   "execution_count": null,
   "id": "4a8b22f3",
   "metadata": {},
   "outputs": [],
   "source": []
  }
 ],
 "metadata": {
  "kernelspec": {
   "display_name": "base",
   "language": "python",
   "name": "python3"
  },
  "language_info": {
   "codemirror_mode": {
    "name": "ipython",
    "version": 3
   },
   "file_extension": ".py",
   "mimetype": "text/x-python",
   "name": "python",
   "nbconvert_exporter": "python",
   "pygments_lexer": "ipython3",
   "version": "3.12.4"
  }
 },
 "nbformat": 4,
 "nbformat_minor": 5
}
